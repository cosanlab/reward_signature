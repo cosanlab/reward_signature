{
 "cells": [
  {
   "cell_type": "markdown",
   "id": "80fc7310",
   "metadata": {},
   "source": [
    "# Test Applications of Reward Brain Model\n",
    "*Written by Luke Chang*\n",
    "\n",
    "This notebook includes code used to test the Reward Model on novel applications such as Homeostatic state manipulation, Loss-aversion, and naturalistic data"
   ]
  },
  {
   "cell_type": "markdown",
   "id": "98cd649a",
   "metadata": {},
   "source": [
    "# Load Modules and Functions"
   ]
  },
  {
   "cell_type": "code",
   "execution_count": 99,
   "id": "f98fd66a",
   "metadata": {
    "ExecuteTime": {
     "end_time": "2022-08-14T02:10:21.413191Z",
     "start_time": "2022-08-14T02:10:21.374958Z"
    }
   },
   "outputs": [],
   "source": [
    "%matplotlib inline\n",
    "\n",
    "import os\n",
    "import glob\n",
    "import numpy as np\n",
    "import pandas as pd\n",
    "import matplotlib.pyplot as plt\n",
    "import seaborn as sns\n",
    "from copy import deepcopy\n",
    "from nltools.data import Brain_Data, Design_Matrix\n",
    "from nltools.mask import expand_mask, roi_to_brain\n",
    "from nltools.stats import (zscore, \n",
    "                           regress, \n",
    "                           find_spikes, \n",
    "                           one_sample_permutation, \n",
    "                           _calc_pvalue, \n",
    "                           downsample, \n",
    "                           correlation_permutation, \n",
    "                           summarize_bootstrap, \n",
    "                           threshold, \n",
    "                           fdr\n",
    "                          )\n",
    "from nltools.analysis import Roc\n",
    "from nltools.file_reader import onsets_to_dm\n",
    "from nltools.external import glover_hrf\n",
    "from nltools.utils import get_anatomical\n",
    "from nilearn.plotting import view_img, glass_brain, plot_stat_map, plot_anat, plot_glass_brain\n",
    "from tqdm import tqdm\n",
    "import pingouin as pg \n",
    "import re\n",
    "from scipy.stats import pearsonr, spearmanr\n",
    "from fnl_tools.stats import global_zscore\n",
    "from fnl_tools.plotting import rec_to_time\n",
    "from sklearn.preprocessing import minmax_scale\n",
    "from sklearn.metrics import pairwise_distances\n",
    "from sklearn.model_selection import GroupKFold\n",
    "# import plotly.express as px\n",
    "from feat.plotting import plot_face\n",
    "# from feat.utils import load_h5\n",
    "from pymer4.models import Lmer, Lm, Lm2\n",
    "from scipy.signal import convolve2d\n",
    "\n",
    "\n",
    "def forced_choice_permutation_accuracy(data1, data2, model, tail=1, n_permutations=10000, metric='correlation'):\n",
    "    '''Compute one-tailed p-values for forced choice accuracy using permutation test\n",
    "    \n",
    "    Args:\n",
    "        data1: (Brain_Data) Brain_Data instance of Condition1(must be same subject order across conditions)\n",
    "        data2: (Brain_Data) Brain_Data instance of Condition2 (must be same subject order across conditions)\n",
    "        model: (Brain_Data) Brain_Data instance of model to test on each condition\n",
    "        n_permutations: (int) Number of permutations to run, default 5,000\n",
    "        \n",
    "    Returns:\n",
    "        dict: Dictionary with accuracy, one-tailed p-value, and null distribution\n",
    "    '''\n",
    "    \n",
    "    if len(data1) != len(data1):\n",
    "        raise ValueError('Conditions have a different number of subjects.')\n",
    "        \n",
    "    pexp = pd.DataFrame({'Condition1':data1.similarity(model, method=metric), \n",
    "                         'Condition2':data2.similarity(model, method=metric)})\n",
    "\n",
    "    accuracy = np.mean(pexp['Condition1'] > pexp['Condition2'])\n",
    "\n",
    "    null = []\n",
    "    for iteration in range(n_permutations):\n",
    "        null_iteration = []\n",
    "        for i in range(len(pexp)):\n",
    "            choice = np.random.choice([0,1])\n",
    "            null_iteration.append(pexp.iloc[i, choice] > pexp.iloc[i, 1-choice])\n",
    "        null.append(np.mean(null_iteration))\n",
    "\n",
    "    return {'accuracy':accuracy, 'p':_calc_pvalue(null, accuracy, tail), 'null':null, 'pattern_similarity':pexp}\n",
    "\n",
    "\n",
    "def plot_forced_choice_accuracy(data, line_color='lightgrey', line_width=2, line_style='-',\n",
    "                                condition1_color='skyblue', condition2_color='navy',\n",
    "                                point_size=8, labels=True, label_size=12, label_color='black',\n",
    "                                ref_line=False, ref_line_style='--', ref_line_color='lightgrey',\n",
    "                                text_gap=.005, vertical_gap=1, height_ratio=5, width_ratio=1.5):\n",
    "    ''' Create a plot showing forced choice accuracy for each subject\n",
    "    \n",
    "    Args:\n",
    "        line_color: (str) color of connecting line\n",
    "        line_width: (int) width of connecting line\n",
    "        line_style: (str) style of connecting line\n",
    "        condition1_color: (str) color of marker for condition1\n",
    "        condition2_color: (str) color of marker for condition2\n",
    "        point_size: (int) size of marker\n",
    "        labels: (bool) plot index as label\n",
    "        label_size: (int) font size for label\n",
    "        label_color: (str) font color for label\n",
    "        ref_line: (bool) plot a reference line at x=0\n",
    "        ref_line_style: (str) style for reference line\n",
    "        ref_line_color: (str) color for reference line\n",
    "        text_gap: (float) offset of text from point\n",
    "        height_ratio: (float) scales figure height (i.e., distance between lines)\n",
    "        width_ratio: (float) scales width of figure relative to height\n",
    "        \n",
    "    Returns:\n",
    "        matplotlib object\n",
    "    \n",
    "    '''\n",
    "    data.sort_values('Condition1', ascending=True, inplace=True)\n",
    "\n",
    "    f,a = plt.subplots(figsize=(height_ratio*width_ratio, int(len(data)/height_ratio)))\n",
    "    \n",
    "    if ref_line:\n",
    "        plt.axvline(0, linestyle=ref_line_style, color=ref_line_color)\n",
    "    \n",
    "    for i, idx in enumerate(data.iterrows()):\n",
    "        row = idx[1]\n",
    "        height = i/(len(data)/height_ratio)\n",
    "#         height = ((i+)/((len(data)+1)/height_ratio))\n",
    "        \n",
    "        a.plot(row['Condition1'], height, color=condition1_color, marker='o', markersize=point_size)\n",
    "        a.plot(row['Condition2'], height, color=condition2_color, marker='o', markersize=point_size)\n",
    "        a.hlines(y=height, color=line_color, linestyle=line_style, linewidth=line_width,\n",
    "                 xmax=max(row['Condition1'], row['Condition2']), \n",
    "                 xmin=min(row['Condition1'], row['Condition2']))\n",
    "        \n",
    "        if labels:\n",
    "            a.annotate(int(row['Label']), xy=(min(row['Condition1'], row['Condition2'])-text_gap, height), \n",
    "                       horizontalalignment='right', verticalalignment='center',\n",
    "                       size=label_size, color=label_color)\n",
    "    \n",
    "    a.get_yaxis().set_visible(False)\n",
    "    a.set_xlim((min(data['Condition1'].min(), data['Condition2'].min() - text_gap - .05),\n",
    "               max(data['Condition1'].max(), data['Condition2'].max() + text_gap + .05)))\n",
    "    plt.tight_layout()\n",
    "    \n",
    "    \n",
    "def plot_polar(data, n_top=3, overplot=False, palette='husl', \n",
    "               reorder=False, method='weighted', metric='correlation', labels=None,\n",
    "               label_size=26, threshold=None, max_val=None,\n",
    "               alpha_level=.8, legend=False, error_bars=None, line_width=4, line_alpha=.8):\n",
    "    \"\"\" Make a polar plot\n",
    "    data - Tabular data of shape features x classes with labels as index\n",
    "    n_top - Number of features to select\n",
    "    selection - Selection method to use `\n",
    "                (top = M strongest for each class; std = N with greatest std across all)\n",
    "    overplot - Overlap plots for each class?\n",
    "    labels - Subset of features to use (overrides auto selection by n_top)\n",
    "    palette - Color palette to use (can be label or list of colors from seaborn)\n",
    "    reorder - If True, uses hierarchical clustering to reorder axis\n",
    "    method - Method to use for clustering\n",
    "    metric - Metric to use for clustering\n",
    "    label_size - X axis label size\n",
    "    threshold - Value to draw an optional line that denotes significance threshold\n",
    "    max_val - Maximum value of y axis\n",
    "    alpha_level - transparency value for lines\n",
    "    legend - Show legend?\n",
    "    error_bars - Option bootstrapped data to draw error bars\n",
    "    line_width - width of lines\n",
    "    line_alpha - alpha of lines\n",
    "    \"\"\"\n",
    "\n",
    "    data = data.iloc[:n_top,:]\n",
    "    n_panels = data.shape[1]\n",
    "    \n",
    "    if labels is not None:\n",
    "        data = data.loc[labels,:]\n",
    "    else:\n",
    "        labels=data.index\n",
    "\n",
    "    if error_bars is not None:\n",
    "        error_bars = error_bars.loc[labels,:]\n",
    "\n",
    "    if reorder is True:\n",
    "        # Use hierarchical clustering to order\n",
    "        from scipy.spatial.distance import pdist\n",
    "        from scipy.cluster.hierarchy import linkage, leaves_list\n",
    "        dists = pdist(data, metric=metric)\n",
    "        pairs = linkage(dists, method=method)\n",
    "        pairs[pairs < 0] = 0\n",
    "        order = leaves_list(pairs)\n",
    "        data = data.iloc[order,:]\n",
    "\n",
    "        if error_bars is not None:\n",
    "            error_bars = error_bars.iloc[order,:]\n",
    "\n",
    "        labels = [labels[i] for i in order]\n",
    "\n",
    "\n",
    "    theta = np.linspace(0.0, 2 * np.pi, len(labels), endpoint=False)\n",
    "    \n",
    "    ## Add first\n",
    "    theta = np.concatenate([theta, [theta[0]]])\n",
    "    if overplot:\n",
    "        fig, ax = plt.subplots(1, 1, subplot_kw=dict(polar=True))\n",
    "        fig.set_size_inches(10, 10)\n",
    "    else:\n",
    "        fig, axes = plt.subplots(n_panels, 1, sharex=False, sharey=False,\n",
    "                             subplot_kw=dict(polar=True))\n",
    "        fig.set_size_inches((6, 6 * n_panels))\n",
    "        \n",
    "    if isinstance(palette, str):\n",
    "        from seaborn import color_palette\n",
    "        colors = color_palette(palette, n_panels)\n",
    "    else:\n",
    "        colors = palette\n",
    "\n",
    "    for i in range(n_panels):\n",
    "        if overplot:\n",
    "            alpha = alpha_level\n",
    "        else:\n",
    "            ax = axes[i]\n",
    "            alpha = alpha_level\n",
    "\n",
    "        if max_val is None:\n",
    "            if error_bars is not None:\n",
    "                max_val = data.values.max() + error_bars.values.max() + data.values.max() * .02\n",
    "            else:\n",
    "                max_val = data.values.max()\n",
    "        \n",
    "        ax.set_ylim(data.values.min(), max_val)\n",
    "        \n",
    "        d = data.iloc[:,i].values\n",
    "        d = np.concatenate([d, [d[0]]])\n",
    "        name = data.columns[i]\n",
    "\n",
    "        if error_bars is not None:\n",
    "            e = error_bars.iloc[:,i].values\n",
    "            e = np.concatenate([e, [e[0]]])\n",
    "        else:\n",
    "            e = None\n",
    "\n",
    "        if error_bars is not None:\n",
    "            ax.errorbar(theta, d, yerr=e, capsize=0, color=colors[i], elinewidth = 3, linewidth=0)\n",
    "        else:\n",
    "            ax.plot(theta, d, alpha=line_alpha - 0.1, color=colors[i], linewidth=line_width, label=name)\n",
    "            ax.fill(theta, d, ec='k', alpha=alpha, color=colors[i], linewidth=line_width)\n",
    "\n",
    "        ax.set_xticks(theta)\n",
    "        ax.set_rlabel_position(11.12)\n",
    "        ax.set_xticklabels(np.concatenate([labels,[labels[0]]]), fontsize=label_size)\n",
    "        [lab.set_fontsize(12) for lab in ax.get_yticklabels()]\n",
    "\n",
    "    \n",
    "    if threshold is not None:\n",
    "        theta = np.linspace(0.0, 2 * np.pi, 999, endpoint=False)\n",
    "        theta = np.concatenate([theta, [theta[0]]])\n",
    "        d = np.array([threshold] * 1000)\n",
    "        ax.plot(theta, d, alpha=1, color='black', linewidth=2, linestyle='--')\n",
    "\n",
    "    if legend is True:\n",
    "        ax.legend(bbox_to_anchor=(1.15, 1.1))\n",
    "\n",
    "    plt.tight_layout()\n",
    "\n",
    "    return labels, data\n",
    "\n",
    "\n",
    "def sort_nicely(l):\n",
    "    \"\"\" Sort the given list in the way that humans expect.\n",
    "    \"\"\"\n",
    "    convert = lambda text: int(text) if text.isdigit() else text\n",
    "    alphanum_key = lambda key: [ convert(c) for c in re.split('([0-9]+)', key) ]\n",
    "    l.sort( key=alphanum_key )\n",
    "\n",
    "    \n",
    "def time_stamp_to_tr(time_stamp, tr=2.0):\n",
    "    '''Convert Min:Sec string timestamp into TRs'''\n",
    "    if ':' not in time_stamp:\n",
    "        raise ValueError('Time Stamp must be in the format Min:Sec')\n",
    "\n",
    "    if len(time_stamp.split(':')) != 2:\n",
    "        raise ValueError('Time Stamp must be in the format Min:Sec')\n",
    "    minutes, seconds = time_stamp.split(':')\n",
    "    return int((int(minutes)*60 + int(seconds))/tr)\n",
    "\n",
    "\n",
    "zscore = lambda x: (x - np.mean(x, axis=0)) / np.std(x, axis=0)\n",
    "center = lambda x: (x - np.mean(x, axis=0))\n",
    "\n",
    "data_dir = '/Storage/Projects/Reward_Model'\n",
    "hcp_dir = '/Storage/Data/HCP'\n",
    "beta_dir = '/Storage/Data/social_deprivation/'\n"
   ]
  },
  {
   "cell_type": "markdown",
   "id": "0de579eb",
   "metadata": {},
   "source": [
    "# Load Models"
   ]
  },
  {
   "cell_type": "code",
   "execution_count": 20,
   "id": "acdeb745",
   "metadata": {
    "ExecuteTime": {
     "end_time": "2022-08-14T01:26:43.011536Z",
     "start_time": "2022-08-14T01:26:41.451452Z"
    }
   },
   "outputs": [],
   "source": [
    "analysis_name = 'demeaned_zscore1_smooth0'\n",
    "\n",
    "mask = Brain_Data(os.path.join(data_dir, 'Masks', 'k50_2mm.nii.gz'))\n",
    "mask_x = expand_mask(mask)\n",
    "\n",
    "neurosynth_reward = Brain_Data(os.path.join(data_dir, 'Masks', 'reward_association-test_z_FDR_0.01.nii.gz'))\n",
    "reward_mask = neurosynth_reward.smooth(5).threshold(upper=3.5, binarize=True)\n",
    "\n",
    "reward_model = Brain_Data(os.path.join(data_dir, 'Analyses', 'Classification', f'SVM_HCP_Reward_vs_Punish_n392_{analysis_name}_weightmap.nii.gz'))\n",
    "reward_model_masked = Brain_Data(os.path.join(data_dir, 'Analyses', 'Classification', f'SVM_HCP_Reward_vs_Punish_n392_masked_{analysis_name}_weightmap.nii.gz'))\n"
   ]
  },
  {
   "cell_type": "markdown",
   "id": "6b9dcb40",
   "metadata": {},
   "source": [
    "# Test Social Deprivation Data\n",
    "## Plot Reward Model performance on Social Deprivation Dataset"
   ]
  },
  {
   "cell_type": "code",
   "execution_count": 7,
   "id": "9867461e",
   "metadata": {
    "ExecuteTime": {
     "end_time": "2022-08-14T01:00:02.913094Z",
     "start_time": "2022-08-14T00:59:59.928553Z"
    }
   },
   "outputs": [
    {
     "name": "stderr",
     "output_type": "stream",
     "text": [
      "/tmp/ipykernel_783552/579823870.py:14: FutureWarning: This dataframe has a column name that matches the 'value_name' column name of the resulting Dataframe. In the future this will raise an error, please set the 'value_name' parameter of DataFrame.melt to a unique name.\n",
      "  mit_deprivation_similarity_long = mit_deprivation_similarity.melt(id_vars=['Subject','Deprivation','Images'], value_name='Similarity')\n"
     ]
    },
    {
     "data": {
      "image/png": "[encoded data removed]",
      "text/plain": [
       "<Figure size 720x360 with 1 Axes>"
      ]
     },
     "metadata": {
      "needs_background": "light"
     },
     "output_type": "display_data"
    }
   ],
   "source": [
    "analysis_name = 'demeaned_zscore1_smooth0'\n",
    "\n",
    "mit_deprivation_similarity = []\n",
    "for session in ['s', 'b', 'f']:\n",
    "    for condition in ['Social', 'Baseline', 'Food']:\n",
    "        dat = Brain_Data(os.path.join(data_dir, 'Data', 'social_isolation', f'MIT_Deprivation_Session_{session}_Images_{condition}.hdf5'))\n",
    "        tmp = pd.DataFrame({'Similarity':dat.similarity(reward_model, method='correlation')})\n",
    "        tmp['Deprivation'] = session\n",
    "        tmp['Images'] = condition\n",
    "        tmp['Subject'] = [f'sub-{x:02}' for x in range(1,tmp.shape[0]+1)]\n",
    "        mit_deprivation_similarity.append(tmp)\n",
    "mit_deprivation_similarity = pd.concat(mit_deprivation_similarity)\n",
    "mit_deprivation_similarity['Deprivation'].replace({'s':'Social','b':'Baseline','f':'Food'}, inplace=True)\n",
    "mit_deprivation_similarity_long = mit_deprivation_similarity.melt(id_vars=['Subject','Deprivation','Images'], value_name='Similarity')\n",
    "mit_deprivation_similarity_long.drop(columns='variable', inplace=True)\n",
    "mit_deprivation_similarity_long.to_csv(os.path.join(data_dir, 'Analyses', 'Classification', f'MIT_Deprivation_Pattern_Similarity_{analysis_name}.csv'), index=False)\n",
    "\n",
    "with sns.plotting_context(context='paper', font_scale=2):\n",
    "    colors = ['navy', 'red', 'skyblue']\n",
    "    sns.catplot(data=mit_deprivation_similarity_long, x='Deprivation', y='Similarity', hue='Images', kind='bar', \n",
    "                ci=68, aspect=2, palette=sns.color_palette(colors), legend=False)\n",
    "    plt.legend(bbox_to_anchor=(1.01, .5))\n",
    "    plt.tight_layout()\n",
    "    plt.savefig(os.path.join(data_dir, 'Figures',f'MIT_Deprivation_Pattern_Similarity_{analysis_name}.png'), dpi=300)\n",
    "    plt.savefig(os.path.join(data_dir, 'Figures',f'MIT_Deprivation_Pattern_Similarity_{analysis_name}.pdf'))              "
   ]
  },
  {
   "cell_type": "markdown",
   "id": "0656191e",
   "metadata": {},
   "source": [
    "## Plot Masked Reward Model on Social Deprivation Dataset"
   ]
  },
  {
   "cell_type": "code",
   "execution_count": 134,
   "id": "9d43783b",
   "metadata": {
    "ExecuteTime": {
     "end_time": "2022-08-14T02:32:11.530577Z",
     "start_time": "2022-08-14T02:32:10.400616Z"
    }
   },
   "outputs": [
    {
     "name": "stderr",
     "output_type": "stream",
     "text": [
      "/tmp/ipykernel_783552/634331514.py:14: FutureWarning: This dataframe has a column name that matches the 'value_name' column name of the resulting Dataframe. In the future this will raise an error, please set the 'value_name' parameter of DataFrame.melt to a unique name.\n",
      "  mit_deprivation_similarity_long = mit_deprivation_similarity.melt(id_vars=['Subject','Deprivation','Images'], value_name='Similarity')\n"
     ]
    },
    {
     "data": {
      "image/png": "[encoded data removed]",
      "text/plain": [
       "<Figure size 720x360 with 1 Axes>"
      ]
     },
     "metadata": {
      "needs_background": "light"
     },
     "output_type": "display_data"
    }
   ],
   "source": [
    "analysis_name = 'masked_demeaned_zscore1_smooth0'\n",
    "\n",
    "mit_deprivation_similarity = []\n",
    "for session in ['s', 'b', 'f']:\n",
    "    for condition in ['Social', 'Baseline', 'Food']:\n",
    "        dat = Brain_Data(os.path.join(data_dir, 'Data', 'social_isolation', f'MIT_Deprivation_Session_{session}_Images_{condition}.hdf5'))\n",
    "        tmp = pd.DataFrame({'Similarity':dat.similarity(reward_model_masked, method='correlation')})\n",
    "        tmp['Deprivation'] = session\n",
    "        tmp['Images'] = condition\n",
    "        tmp['Subject'] = [f'sub-{x:02}' for x in range(1,tmp.shape[0]+1)]\n",
    "        mit_deprivation_similarity.append(tmp)\n",
    "mit_deprivation_similarity = pd.concat(mit_deprivation_similarity)\n",
    "mit_deprivation_similarity['Deprivation'].replace({'s':'Social','b':'Baseline','f':'Food'}, inplace=True)\n",
    "mit_deprivation_similarity_long = mit_deprivation_similarity.melt(id_vars=['Subject','Deprivation','Images'], value_name='Similarity')\n",
    "mit_deprivation_similarity_long.drop(columns='variable', inplace=True)\n",
    "mit_deprivation_similarity_long.to_csv(os.path.join(data_dir, 'Analyses', 'Classification', f'MIT_Deprivation_Pattern_Similarity_{analysis_name}.csv'), index=False)\n",
    "\n",
    "with sns.plotting_context(context='paper', font_scale=2):\n",
    "    colors = ['navy', 'red', 'skyblue']\n",
    "    sns.catplot(data=mit_deprivation_similarity_long, x='Deprivation', y='Similarity', hue='Images', kind='bar', \n",
    "                ci=68, aspect=2, palette=sns.color_palette(colors), legend=False)\n",
    "    plt.legend(bbox_to_anchor=(1.01, .5))\n",
    "    plt.tight_layout()\n",
    "    plt.savefig(os.path.join(data_dir, 'Figures',f'MIT_Deprivation_Pattern_Similarity_{analysis_name}.png'), dpi=300)\n",
    "    plt.savefig(os.path.join(data_dir, 'Figures',f'MIT_Deprivation_Pattern_Similarity_{analysis_name}.pdf'))              "
   ]
  },
  {
   "cell_type": "markdown",
   "id": "ae69cd33",
   "metadata": {},
   "source": [
    "# Test Mixed Gambles Loss Aversion Dataset"
   ]
  },
  {
   "cell_type": "markdown",
   "id": "73485fe8",
   "metadata": {},
   "source": [
    "## Compute similarity of reward model to each trial for each subject (only need to run once)"
   ]
  },
  {
   "cell_type": "code",
   "execution_count": 12,
   "id": "97be23b6",
   "metadata": {
    "ExecuteTime": {
     "end_time": "2022-08-14T01:21:30.851747Z",
     "start_time": "2022-08-14T01:10:22.254368Z"
    }
   },
   "outputs": [
    {
     "name": "stderr",
     "output_type": "stream",
     "text": [
      "100%|█████████████████████████████████████| 2/2 [00:06<00:00,  3.24s/it]\n"
     ]
    }
   ],
   "source": [
    "loss_aversion_path = '/Storage/Data/loss_aversion/derivatives/L1_Betas'\n",
    "\n",
    "loss_aversion_file_list = glob.glob(os.path.join(loss_aversion_path, '*.nii.gz'))\n",
    "sort_nicely(loss_aversion_file_list)\n",
    "\n",
    "loss_aversion_images = Brain_Data(loss_aversion_file_list)\n",
    "\n",
    "for analysis_name in tqdm(['demeaned_zscore1_smooth0', 'masked_demeaned_zscore1_smooth0']):\n",
    "    reward_model = Brain_Data(os.path.join(data_dir, 'Analyses', 'Classification', f'SVM_HCP_Reward_vs_Punish_n392_{analysis_name}_weightmap.nii.gz'))\n",
    "    loss_aversion_similarity = loss_aversion_images.similarity(reward_model, method='correlation')\n",
    "\n",
    "    loss_aversion_metadata = pd.DataFrame([os.path.basename(x).split('_') for x in loss_aversion_file_list])\n",
    "    loss_aversion_metadata.columns = ['Subject', 'Task', 'Run', 'Gain', 'Loss', 'Decision']\n",
    "\n",
    "    loss_aversion_metadata['Gain'] = [int(x[4:]) for x in loss_aversion_metadata['Gain']]\n",
    "    loss_aversion_metadata['Loss'] = [int(x[4:]) for x in loss_aversion_metadata['Loss']]\n",
    "    loss_aversion_metadata['Decision'] = [int(x.split('.')[0][-1]) for x in loss_aversion_metadata['Decision']]\n",
    "    loss_aversion_metadata['Similarity'] = loss_aversion_similarity\n",
    "\n",
    "    loss_aversion_metadata.to_csv(os.path.join(data_dir, 'Analyses', 'Classification', f'Loss_Aversion_Similarity_{analysis_name}.csv'), index=False)"
   ]
  },
  {
   "cell_type": "markdown",
   "id": "444d1e91",
   "metadata": {},
   "source": [
    "## Load Loss Aversion Similarity Data"
   ]
  },
  {
   "cell_type": "code",
   "execution_count": 57,
   "id": "113fa6a3",
   "metadata": {
    "ExecuteTime": {
     "end_time": "2022-08-14T01:46:21.267609Z",
     "start_time": "2022-08-14T01:46:21.242263Z"
    }
   },
   "outputs": [],
   "source": [
    "analysis_name = 'demeaned_zscore1_smooth0'\n",
    "# analysis_name = 'masked_demeaned_zscore1_smooth0'\n",
    "\n",
    "loss_aversion_metadata = pd.read_csv(os.path.join(data_dir, 'Analyses', 'Classification', f'Loss_Aversion_Similarity_{analysis_name}.csv'))\n",
    "\n",
    "loss_aversion_metadata['Similarity_center'] = loss_aversion_metadata['Similarity'].groupby(loss_aversion_metadata['Subject']).transform(center)\n",
    "loss_aversion_metadata['Similarity_z'] = loss_aversion_metadata['Similarity'].groupby(loss_aversion_metadata['Subject']).transform(zscore)\n",
    "loss_aversion_metadata['Gain_z'] = loss_aversion_metadata['Gain'].groupby(loss_aversion_metadata['Subject']).transform(zscore)\n",
    "loss_aversion_metadata['Loss_z'] = loss_aversion_metadata['Loss'].groupby(loss_aversion_metadata['Subject']).transform(zscore)\n",
    "loss_aversion_metadata['Decision_4'] = loss_aversion_metadata['Decision']\n",
    "loss_aversion_metadata['Decision'] = loss_aversion_metadata['Decision'].replace({1:1, 2:1, 3:0, 4:0,0:np.nan})\n",
    "loss_aversion_metadata['Decision_4'] = loss_aversion_metadata['Decision_4'].replace({0:np.nan, 4:1, 3:2, 2:3, 1:4})\n",
    "\n"
   ]
  },
  {
   "cell_type": "markdown",
   "id": "9758e147",
   "metadata": {},
   "source": [
    "## Look for evidence of interaction in gain/loss pattern similarity data"
   ]
  },
  {
   "cell_type": "code",
   "execution_count": 58,
   "id": "2ecd4205",
   "metadata": {
    "ExecuteTime": {
     "end_time": "2022-08-14T01:46:23.610284Z",
     "start_time": "2022-08-14T01:46:23.455545Z"
    }
   },
   "outputs": [
    {
     "name": "stderr",
     "output_type": "stream",
     "text": [
      "/tmp/ipykernel_783552/2876208987.py:5: SettingWithCopyWarning: \n",
      "A value is trying to be set on a copy of a slice from a DataFrame\n",
      "\n",
      "See the caveats in the documentation: https://pandas.pydata.org/pandas-docs/stable/user_guide/indexing.html#returning-a-view-versus-a-copy\n",
      "  loss_aversion_metadata['Gain_Quantile'].loc[loss_aversion_metadata['Gain'] >=loss_aversion_metadata['Gain'].quantile(i/quantile)] = i + 1\n",
      "/tmp/ipykernel_783552/2876208987.py:6: SettingWithCopyWarning: \n",
      "A value is trying to be set on a copy of a slice from a DataFrame\n",
      "\n",
      "See the caveats in the documentation: https://pandas.pydata.org/pandas-docs/stable/user_guide/indexing.html#returning-a-view-versus-a-copy\n",
      "  loss_aversion_metadata['Loss_Quantile'].loc[loss_aversion_metadata['Loss'] >=loss_aversion_metadata['Loss'].quantile(i/quantile)] = quantile-i\n"
     ]
    },
    {
     "data": {
      "text/plain": [
       "<AxesSubplot:xlabel='Loss_Quantile', ylabel='Similarity'>"
      ]
     },
     "execution_count": 58,
     "metadata": {},
     "output_type": "execute_result"
    },
    {
     "data": {
      "image/png": "[encoded data removed]",
      "text/plain": [
       "<Figure size 576x288 with 2 Axes>"
      ]
     },
     "metadata": {
      "needs_background": "light"
     },
     "output_type": "display_data"
    }
   ],
   "source": [
    "quantile=2\n",
    "loss_aversion_metadata['Gain_Quantile'] = 0\n",
    "loss_aversion_metadata['Loss_Quantile'] = 0\n",
    "for i in range(quantile):\n",
    "    loss_aversion_metadata['Gain_Quantile'].loc[loss_aversion_metadata['Gain'] >=loss_aversion_metadata['Gain'].quantile(i/quantile)] = i + 1\n",
    "    loss_aversion_metadata['Loss_Quantile'].loc[loss_aversion_metadata['Loss'] >=loss_aversion_metadata['Loss'].quantile(i/quantile)] = quantile-i\n",
    "\n",
    "f,a = plt.subplots(ncols=2, figsize=(8,4), sharey=True)\n",
    "sns.barplot(data=loss_aversion_metadata, x='Gain_Quantile', y='Similarity', ax=a[1])\n",
    "\n",
    "sns.barplot(data=loss_aversion_metadata, x='Loss_Quantile', y='Similarity', ax=a[0])\n"
   ]
  },
  {
   "cell_type": "markdown",
   "id": "c92e461b",
   "metadata": {},
   "source": [
    "## Test Behavioral Data Gains/Loss"
   ]
  },
  {
   "cell_type": "code",
   "execution_count": 59,
   "id": "9238d88b",
   "metadata": {
    "ExecuteTime": {
     "end_time": "2022-08-14T01:46:28.667017Z",
     "start_time": "2022-08-14T01:46:28.440416Z"
    }
   },
   "outputs": [
    {
     "data": {
      "image/png": "[encoded data removed]",
      "text/plain": [
       "<Figure size 432x288 with 2 Axes>"
      ]
     },
     "metadata": {
      "needs_background": "light"
     },
     "output_type": "display_data"
    }
   ],
   "source": [
    "quantile=4\n",
    "gain_loss = np.zeros((quantile, quantile))\n",
    "for i in range(quantile):\n",
    "    for j in range(quantile):    \n",
    "        gain_loss[i,j] = loss_aversion_metadata.loc[(loss_aversion_metadata['Gain'] >=loss_aversion_metadata['Gain'].quantile(j/quantile)) & (loss_aversion_metadata['Loss'] >=loss_aversion_metadata['Loss'].quantile(i/quantile))]['Decision'].mean()\n",
    "gain_loss = pd.DataFrame(gain_loss, columns=[x for x in range(10,50, int(40/quantile))], index=[x for x in range(5,25, int(20/quantile))])\n",
    "\n",
    "with sns.plotting_context(context='paper', font_scale=2):\n",
    "    sns.heatmap(gain_loss, cmap='RdBu_r', square=True)\n",
    "    plt.xlabel('Potential Gain ($)')\n",
    "    plt.ylabel('Potential Loss ($)')\n",
    "    plt.tight_layout()\n",
    "    plt.savefig(os.path.join(data_dir, 'Figures', 'Neural_Loss_Aversion', f'Behavior_Loss_Aversion_Quantile{quantile}_{analysis_name}_heatmap.png'), dpi=300)\n",
    "    plt.savefig(os.path.join(data_dir, 'Figures', 'Neural_Loss_Aversion', f'Behavior_Loss_Aversion_Quantile{quantile}_{analysis_name}_heatmap.pdf'))\n"
   ]
  },
  {
   "cell_type": "markdown",
   "id": "efa1b890",
   "metadata": {},
   "source": [
    "## Test Neural Data Gains/Loss"
   ]
  },
  {
   "cell_type": "code",
   "execution_count": 60,
   "id": "9a2f28f9",
   "metadata": {
    "ExecuteTime": {
     "end_time": "2022-08-14T01:46:38.471795Z",
     "start_time": "2022-08-14T01:46:38.246873Z"
    }
   },
   "outputs": [
    {
     "data": {
      "image/png": "[encoded data removed]",
      "text/plain": [
       "<Figure size 432x288 with 2 Axes>"
      ]
     },
     "metadata": {
      "needs_background": "light"
     },
     "output_type": "display_data"
    }
   ],
   "source": [
    "quantile=4\n",
    "gain_loss = np.zeros((quantile, quantile))\n",
    "for i in range(quantile):\n",
    "    for j in range(quantile):    \n",
    "        gain_loss[i,j] = loss_aversion_metadata.loc[(loss_aversion_metadata['Gain'] >=loss_aversion_metadata['Gain'].quantile(j/quantile)) & (loss_aversion_metadata['Loss'] >=loss_aversion_metadata['Loss'].quantile(i/quantile))]['Similarity_z'].mean()\n",
    "gain_loss = pd.DataFrame(gain_loss, columns=[x for x in range(10,50, int(40/quantile))], index=[x for x in range(5,25, int(20/quantile))])\n",
    "\n",
    "with sns.plotting_context(context='paper', font_scale=2):\n",
    "    sns.heatmap(gain_loss, cmap='RdBu_r', square=True)\n",
    "    plt.xlabel('Potential Gain ($)')\n",
    "    plt.ylabel('Potential Loss ($)')\n",
    "    plt.tight_layout()\n",
    "    plt.savefig(os.path.join(data_dir, 'Figures', 'Neural_Loss_Aversion', f'Neural_Loss_Aversion_Quantile{quantile}_{analysis_name}_heatmap.png'), dpi=300)\n",
    "    plt.savefig(os.path.join(data_dir, 'Figures', 'Neural_Loss_Aversion', f'Neural_Loss_Aversion_Quantile{quantile}_{analysis_name}_heatmap.pdf'))\n"
   ]
  },
  {
   "cell_type": "markdown",
   "id": "2938355c",
   "metadata": {},
   "source": [
    "## Prediction Decision from Predicted Reward"
   ]
  },
  {
   "cell_type": "code",
   "execution_count": 61,
   "id": "465ab944",
   "metadata": {
    "ExecuteTime": {
     "end_time": "2022-08-14T01:46:45.574105Z",
     "start_time": "2022-08-14T01:46:44.827473Z"
    }
   },
   "outputs": [
    {
     "name": "stdout",
     "output_type": "stream",
     "text": [
      "boundary (singular) fit: see help('isSingular') \n",
      "\n",
      "Formula: Decision~Similarity+(Similarity|Subject)\n",
      "\n",
      "Family: binomial\t Inference: parametric\n",
      "\n",
      "Number of observations: 2617\t Groups: {'Subject': 16.0}\n",
      "\n",
      "Log-likelihood: -1545.568 \t AIC: 3101.135\n",
      "\n",
      "Random effects:\n",
      "\n",
      "                Name    Var    Std\n",
      "Subject  (Intercept)  1.077  1.038\n",
      "Subject   Similarity  2.018  1.420\n",
      "\n",
      "                 IV1         IV2  Corr\n",
      "Subject  (Intercept)  Similarity  -1.0\n",
      "\n",
      "Fixed effects:\n",
      "\n"
     ]
    },
    {
     "data": {
      "text/html": [
       "<div>\n",
       "<style scoped>\n",
       "    .dataframe tbody tr th:only-of-type {\n",
       "        vertical-align: middle;\n",
       "    }\n",
       "\n",
       "    .dataframe tbody tr th {\n",
       "        vertical-align: top;\n",
       "    }\n",
       "\n",
       "    .dataframe thead th {\n",
       "        text-align: right;\n",
       "    }\n",
       "</style>\n",
       "<table border=\"1\" class=\"dataframe\">\n",
       "  <thead>\n",
       "    <tr style=\"text-align: right;\">\n",
       "      <th></th>\n",
       "      <th>Estimate</th>\n",
       "      <th>2.5_ci</th>\n",
       "      <th>97.5_ci</th>\n",
       "      <th>SE</th>\n",
       "      <th>OR</th>\n",
       "      <th>OR_2.5_ci</th>\n",
       "      <th>OR_97.5_ci</th>\n",
       "      <th>Prob</th>\n",
       "      <th>Prob_2.5_ci</th>\n",
       "      <th>Prob_97.5_ci</th>\n",
       "      <th>Z-stat</th>\n",
       "      <th>P-val</th>\n",
       "      <th>Sig</th>\n",
       "    </tr>\n",
       "  </thead>\n",
       "  <tbody>\n",
       "    <tr>\n",
       "      <th>(Intercept)</th>\n",
       "      <td>0.130</td>\n",
       "      <td>-0.387</td>\n",
       "      <td>0.646</td>\n",
       "      <td>0.263</td>\n",
       "      <td>1.139</td>\n",
       "      <td>0.679</td>\n",
       "      <td>1.908</td>\n",
       "      <td>0.532</td>\n",
       "      <td>0.405</td>\n",
       "      <td>0.656</td>\n",
       "      <td>0.493</td>\n",
       "      <td>0.622</td>\n",
       "      <td></td>\n",
       "    </tr>\n",
       "    <tr>\n",
       "      <th>Similarity</th>\n",
       "      <td>6.874</td>\n",
       "      <td>2.808</td>\n",
       "      <td>10.940</td>\n",
       "      <td>2.074</td>\n",
       "      <td>966.750</td>\n",
       "      <td>16.580</td>\n",
       "      <td>56370.567</td>\n",
       "      <td>0.999</td>\n",
       "      <td>0.943</td>\n",
       "      <td>1.000</td>\n",
       "      <td>3.314</td>\n",
       "      <td>0.001</td>\n",
       "      <td>***</td>\n",
       "    </tr>\n",
       "  </tbody>\n",
       "</table>\n",
       "</div>"
      ],
      "text/plain": [
       "             Estimate  2.5_ci  97.5_ci     SE       OR  OR_2.5_ci  OR_97.5_ci  \\\n",
       "(Intercept)     0.130  -0.387    0.646  0.263    1.139      0.679       1.908   \n",
       "Similarity      6.874   2.808   10.940  2.074  966.750     16.580   56370.567   \n",
       "\n",
       "              Prob  Prob_2.5_ci  Prob_97.5_ci  Z-stat  P-val  Sig  \n",
       "(Intercept)  0.532        0.405         0.656   0.493  0.622       \n",
       "Similarity   0.999        0.943         1.000   3.314  0.001  ***  "
      ]
     },
     "execution_count": 61,
     "metadata": {},
     "output_type": "execute_result"
    }
   ],
   "source": [
    "model_decision = Lmer(\"Decision ~ Similarity + (Similarity|Subject)\", data=loss_aversion_metadata.dropna(), family='binomial')\n",
    "model_decision.fit()\n"
   ]
  },
  {
   "cell_type": "code",
   "execution_count": 62,
   "id": "fafa71e2",
   "metadata": {
    "ExecuteTime": {
     "end_time": "2022-08-14T01:46:48.582691Z",
     "start_time": "2022-08-14T01:46:48.298229Z"
    },
    "scrolled": false
   },
   "outputs": [
    {
     "data": {
      "image/png": "[encoded data removed]",
      "text/plain": [
       "<Figure size 540x360 with 1 Axes>"
      ]
     },
     "metadata": {
      "needs_background": "light"
     },
     "output_type": "display_data"
    }
   ],
   "source": [
    "with sns.plotting_context(context='paper', font_scale=2.5):\n",
    "    sns.catplot(data=loss_aversion_metadata, x='Decision_4', y='Similarity_z', kind='bar', \n",
    "                palette=sns.color_palette(palette='RdBu_r', n_colors=4), aspect=1.5, \n",
    "#                 order=['Strongly Accept','Weakly Accept', 'Weakly Reject', 'Strongly Reject']\n",
    "               )\n",
    "    plt.ylabel('Reward Prediction')\n",
    "    plt.xlabel('Decision')\n",
    "    plt.tight_layout()\n",
    "    plt.savefig(os.path.join(data_dir, 'Figures', 'Neural_Loss_Aversion', f'Behavioral_Prediction_{analysis_name}.png'), dpi=300)\n",
    "    plt.savefig(os.path.join(data_dir, 'Figures', 'Neural_Loss_Aversion', f'Behavioral_Prediction_{analysis_name}.pdf'))\n"
   ]
  },
  {
   "cell_type": "markdown",
   "id": "6bc758b3",
   "metadata": {},
   "source": [
    "## Compute Accuracy for Whole Brain Model"
   ]
  },
  {
   "cell_type": "code",
   "execution_count": 35,
   "id": "9e0b5afb",
   "metadata": {
    "ExecuteTime": {
     "end_time": "2022-08-14T01:32:41.808407Z",
     "start_time": "2022-08-14T01:32:38.608298Z"
    }
   },
   "outputs": [
    {
     "name": "stdout",
     "output_type": "stream",
     "text": [
      "Accuracy:0.94 p = 0.0006\n"
     ]
    }
   ],
   "source": [
    "\n",
    "n_permutations = 5000\n",
    "tail=2\n",
    "sub_dat = {}\n",
    "for sub in loss_aversion_metadata['Subject'].unique():\n",
    "    sub_dat[sub] = {'Accept':loss_aversion_metadata.query('Subject==@sub&Decision==1')['Similarity'].mean(),\n",
    "                      'Reject':loss_aversion_metadata.query('Subject==@sub&Decision==0')['Similarity'].mean()}\n",
    "sub_dat = pd.DataFrame(sub_dat).T\n",
    "\n",
    "accuracy = np.mean(sub_dat['Accept'] > sub_dat['Reject'])\n",
    "\n",
    "null = []\n",
    "for iteration in range(n_permutations):\n",
    "    null_iteration = []\n",
    "    for i in range(len(sub_dat)):\n",
    "        choice = np.random.choice([0,1])\n",
    "        null_iteration.append(sub_dat.iloc[i, choice] > sub_dat.iloc[i, 1-choice])\n",
    "    null.append(np.mean(null_iteration))\n",
    "\n",
    "stats = {'accuracy':accuracy, 'p':_calc_pvalue(null, accuracy, tail), 'null':null, 'pattern_similarity':sub_dat}\n",
    "\n",
    "print(f'Accuracy:{stats[\"accuracy\"]:.02} p = {stats[\"p\"]:.003}')\n"
   ]
  },
  {
   "cell_type": "markdown",
   "id": "bb464950",
   "metadata": {},
   "source": [
    "## Compute Accuracy for Masked Model"
   ]
  },
  {
   "cell_type": "code",
   "execution_count": 36,
   "id": "70014501",
   "metadata": {
    "ExecuteTime": {
     "end_time": "2022-08-14T01:34:10.521227Z",
     "start_time": "2022-08-14T01:34:07.314692Z"
    }
   },
   "outputs": [
    {
     "name": "stdout",
     "output_type": "stream",
     "text": [
      "Accuracy:0.69 p = 0.102\n"
     ]
    }
   ],
   "source": [
    "masked_metadata = pd.read_csv(os.path.join(data_dir, 'Analyses', 'Classification', f'Loss_Aversion_Similarity_masked_demeaned_zscore1_smooth0.csv'))\n",
    "masked_metadata['Decision'] = masked_metadata['Decision'].replace({1:1, 2:1, 3:0, 4:0,0:np.nan})\n",
    "\n",
    "n_permutations = 5000\n",
    "tail=2\n",
    "sub_dat = {}\n",
    "for sub in loss_aversion_metadata['Subject'].unique():\n",
    "    sub_dat[sub] = {'Accept':masked_metadata.query('Subject==@sub&Decision==1')['Similarity'].mean(),\n",
    "                      'Reject':masked_metadata.query('Subject==@sub&Decision==0')['Similarity'].mean()}\n",
    "sub_dat = pd.DataFrame(sub_dat).T\n",
    "\n",
    "accuracy = np.mean(sub_dat['Accept'] > sub_dat['Reject'])\n",
    "\n",
    "null = []\n",
    "for iteration in range(n_permutations):\n",
    "    null_iteration = []\n",
    "    for i in range(len(sub_dat)):\n",
    "        choice = np.random.choice([0,1])\n",
    "        null_iteration.append(sub_dat.iloc[i, choice] > sub_dat.iloc[i, 1-choice])\n",
    "    null.append(np.mean(null_iteration))\n",
    "\n",
    "stats = {'accuracy':accuracy, 'p':_calc_pvalue(null, accuracy, tail), 'null':null, 'pattern_similarity':sub_dat}\n",
    "\n",
    "print(f'Accuracy:{stats[\"accuracy\"]:.02} p = {stats[\"p\"]:.003}')\n"
   ]
  },
  {
   "cell_type": "markdown",
   "id": "e6d6bf83",
   "metadata": {},
   "source": [
    "## Estimate Behavioral Loss Avesion"
   ]
  },
  {
   "cell_type": "code",
   "execution_count": 37,
   "id": "55a7d101",
   "metadata": {
    "ExecuteTime": {
     "end_time": "2022-08-14T01:35:00.041941Z",
     "start_time": "2022-08-14T01:34:54.784525Z"
    }
   },
   "outputs": [
    {
     "name": "stdout",
     "output_type": "stream",
     "text": [
      "Model failed to converge with max|grad| = 0.00638603 (tol = 0.002, component 1) \n",
      "\n",
      "Formula: Decision~Gain+Loss+(Gain+Loss|Subject)\n",
      "\n",
      "Family: binomial\t Inference: parametric\n",
      "\n",
      "Number of observations: 2617\t Groups: {'Subject': 16.0}\n",
      "\n",
      "Log-likelihood: -617.968 \t AIC: 1253.936\n",
      "\n",
      "Random effects:\n",
      "\n",
      "                Name    Var    Std\n",
      "Subject  (Intercept)  2.429  1.558\n",
      "Subject         Gain  0.095  0.309\n",
      "Subject         Loss  0.049  0.221\n",
      "\n",
      "                 IV1   IV2   Corr\n",
      "Subject  (Intercept)  Gain -0.361\n",
      "Subject  (Intercept)  Loss -0.119\n",
      "Subject         Gain  Loss -0.783\n",
      "\n",
      "Fixed effects:\n",
      "\n",
      "\n",
      "Median Loss Aversion: 1.99\n",
      "Mean Loss Aversion: 2.22 \n",
      "SD Loss Aversion: 1.08\n",
      "\n",
      "Formula: Decision~Gain+Loss+(Gain+Loss|Subject)\n",
      "\n",
      "Family: binomial\t Inference: parametric\n",
      "\n",
      "Number of observations: 2617\t Groups: {'Subject': 16.0}\n",
      "\n",
      "Log-likelihood: -617.968 \t AIC: 1253.936\n",
      "\n",
      "Random effects:\n",
      "\n",
      "                Name    Var    Std\n",
      "Subject  (Intercept)  2.429  1.558\n",
      "Subject         Gain  0.095  0.309\n",
      "Subject         Loss  0.049  0.221\n",
      "\n",
      "                 IV1   IV2   Corr\n",
      "Subject  (Intercept)  Gain -0.361\n",
      "Subject  (Intercept)  Loss -0.119\n",
      "Subject         Gain  Loss -0.783\n",
      "\n",
      "Fixed effects:\n",
      "\n"
     ]
    },
    {
     "data": {
      "text/html": [
       "<div>\n",
       "<style scoped>\n",
       "    .dataframe tbody tr th:only-of-type {\n",
       "        vertical-align: middle;\n",
       "    }\n",
       "\n",
       "    .dataframe tbody tr th {\n",
       "        vertical-align: top;\n",
       "    }\n",
       "\n",
       "    .dataframe thead th {\n",
       "        text-align: right;\n",
       "    }\n",
       "</style>\n",
       "<table border=\"1\" class=\"dataframe\">\n",
       "  <thead>\n",
       "    <tr style=\"text-align: right;\">\n",
       "      <th></th>\n",
       "      <th>Estimate</th>\n",
       "      <th>2.5_ci</th>\n",
       "      <th>97.5_ci</th>\n",
       "      <th>SE</th>\n",
       "      <th>OR</th>\n",
       "      <th>OR_2.5_ci</th>\n",
       "      <th>OR_97.5_ci</th>\n",
       "      <th>Prob</th>\n",
       "      <th>Prob_2.5_ci</th>\n",
       "      <th>Prob_97.5_ci</th>\n",
       "      <th>Z-stat</th>\n",
       "      <th>P-val</th>\n",
       "      <th>Sig</th>\n",
       "    </tr>\n",
       "  </thead>\n",
       "  <tbody>\n",
       "    <tr>\n",
       "      <th>(Intercept)</th>\n",
       "      <td>-0.166</td>\n",
       "      <td>-1.154</td>\n",
       "      <td>0.822</td>\n",
       "      <td>0.504</td>\n",
       "      <td>0.847</td>\n",
       "      <td>0.315</td>\n",
       "      <td>2.275</td>\n",
       "      <td>0.459</td>\n",
       "      <td>0.240</td>\n",
       "      <td>0.695</td>\n",
       "      <td>-0.329</td>\n",
       "      <td>0.742</td>\n",
       "      <td></td>\n",
       "    </tr>\n",
       "    <tr>\n",
       "      <th>Gain</th>\n",
       "      <td>0.434</td>\n",
       "      <td>0.269</td>\n",
       "      <td>0.599</td>\n",
       "      <td>0.084</td>\n",
       "      <td>1.543</td>\n",
       "      <td>1.308</td>\n",
       "      <td>1.820</td>\n",
       "      <td>0.607</td>\n",
       "      <td>0.567</td>\n",
       "      <td>0.645</td>\n",
       "      <td>5.152</td>\n",
       "      <td>0.000</td>\n",
       "      <td>***</td>\n",
       "    </tr>\n",
       "    <tr>\n",
       "      <th>Loss</th>\n",
       "      <td>-0.715</td>\n",
       "      <td>-0.852</td>\n",
       "      <td>-0.577</td>\n",
       "      <td>0.070</td>\n",
       "      <td>0.489</td>\n",
       "      <td>0.426</td>\n",
       "      <td>0.562</td>\n",
       "      <td>0.329</td>\n",
       "      <td>0.299</td>\n",
       "      <td>0.360</td>\n",
       "      <td>-10.156</td>\n",
       "      <td>0.000</td>\n",
       "      <td>***</td>\n",
       "    </tr>\n",
       "  </tbody>\n",
       "</table>\n",
       "</div>"
      ],
      "text/plain": [
       "             Estimate  2.5_ci  97.5_ci     SE     OR  OR_2.5_ci  OR_97.5_ci  \\\n",
       "(Intercept)    -0.166  -1.154    0.822  0.504  0.847      0.315       2.275   \n",
       "Gain            0.434   0.269    0.599  0.084  1.543      1.308       1.820   \n",
       "Loss           -0.715  -0.852   -0.577  0.070  0.489      0.426       0.562   \n",
       "\n",
       "              Prob  Prob_2.5_ci  Prob_97.5_ci  Z-stat  P-val  Sig  \n",
       "(Intercept)  0.459        0.240         0.695  -0.329  0.742       \n",
       "Gain         0.607        0.567         0.645   5.152  0.000  ***  \n",
       "Loss         0.329        0.299         0.360 -10.156  0.000  ***  "
      ]
     },
     "execution_count": 37,
     "metadata": {},
     "output_type": "execute_result"
    },
    {
     "data": {
      "image/png": "[encoded data removed]",
      "text/plain": [
       "<Figure size 432x288 with 1 Axes>"
      ]
     },
     "metadata": {
      "needs_background": "light"
     },
     "output_type": "display_data"
    }
   ],
   "source": [
    "model_decision = Lmer(\"Decision ~ Gain + Loss + (Gain + Loss |Subject)\", data=loss_aversion_metadata.dropna(), family='binomial')\n",
    "model_decision.fit(verbose=False)\n",
    "\n",
    "\n",
    "loss_aversion_parameter_behavior = -1 * (model_decision.fixef['Loss']/model_decision.fixef['Gain'])\n",
    "\n",
    "with sns.plotting_context(context='paper', font_scale=2):\n",
    "    sns.kdeplot(loss_aversion_parameter_behavior, shade='dodgerblue')\n",
    "    plt.xlabel('Loss-Aversion Parameter')\n",
    "#     plt.xlim([-20,55])\n",
    "    plt.tight_layout()\n",
    "    plt.axvline(np.median(loss_aversion_parameter_behavior), linestyle='--', color='navy', linewidth=2)\n",
    "    plt.savefig(os.path.join(data_dir, 'Figures', 'Neural_Loss_Aversion', f'Behavioral_Loss_Aversion_Parameter_{analysis_name}_distribution.png'), dpi=300)\n",
    "    plt.savefig(os.path.join(data_dir, 'Figures', 'Neural_Loss_Aversion', f'Behavioral_Loss_Aversion_Parameter_{analysis_name}_distribution.pdf'))\n",
    "\n",
    "    \n",
    "print(f'\\nMedian Loss Aversion: {np.median(loss_aversion_parameter_behavior):.03}\\nMean Loss Aversion: {np.mean(loss_aversion_parameter_behavior):.03} \\nSD Loss Aversion: {np.std(loss_aversion_parameter_behavior):.03}\\n')\n",
    "\n",
    "model_decision.summary()"
   ]
  },
  {
   "cell_type": "markdown",
   "id": "180ca342",
   "metadata": {},
   "source": [
    "## Estimate Neural Loss Aversion"
   ]
  },
  {
   "cell_type": "code",
   "execution_count": 78,
   "id": "fcd48d65",
   "metadata": {
    "ExecuteTime": {
     "end_time": "2022-08-14T01:51:40.884430Z",
     "start_time": "2022-08-14T01:51:40.232409Z"
    }
   },
   "outputs": [
    {
     "name": "stdout",
     "output_type": "stream",
     "text": [
      "boundary (singular) fit: see help('isSingular') \n",
      "\n",
      "Formula: Similarity_z~Gain+Loss+(Gain+Loss|Subject)\n",
      "\n",
      "Family: gaussian\t Inference: parametric\n",
      "\n",
      "Number of observations: 2736\t Groups: {'Subject': 16.0}\n",
      "\n",
      "Log-likelihood: -3877.513 \t AIC: 7755.026\n",
      "\n",
      "Random effects:\n",
      "\n",
      "                 Name    Var    Std\n",
      "Subject   (Intercept)  0.000  0.013\n",
      "Subject          Gain  0.000  0.000\n",
      "Subject          Loss  0.000  0.001\n",
      "Residual               0.988  0.994\n",
      "\n",
      "                 IV1   IV2   Corr\n",
      "Subject  (Intercept)  Gain -1.000\n",
      "Subject  (Intercept)  Loss -0.998\n",
      "Subject         Gain  Loss  0.998\n",
      "\n",
      "Fixed effects:\n",
      "\n",
      "\n",
      "Median Loss Aversion: 6.72\n",
      "Mean Loss Aversion: 6.72 \n",
      "SD Loss Aversion: 0.035\n",
      "\n",
      "Formula: Similarity_z~Gain+Loss+(Gain+Loss|Subject)\n",
      "\n",
      "Family: gaussian\t Inference: parametric\n",
      "\n",
      "Number of observations: 2736\t Groups: {'Subject': 16.0}\n",
      "\n",
      "Log-likelihood: -3877.513 \t AIC: 7755.026\n",
      "\n",
      "Random effects:\n",
      "\n",
      "                 Name    Var    Std\n",
      "Subject   (Intercept)  0.000  0.013\n",
      "Subject          Gain  0.000  0.000\n",
      "Subject          Loss  0.000  0.001\n",
      "Residual               0.988  0.994\n",
      "\n",
      "                 IV1   IV2   Corr\n",
      "Subject  (Intercept)  Gain -1.000\n",
      "Subject  (Intercept)  Loss -0.998\n",
      "Subject         Gain  Loss  0.998\n",
      "\n",
      "Fixed effects:\n",
      "\n"
     ]
    },
    {
     "data": {
      "text/html": [
       "<div>\n",
       "<style scoped>\n",
       "    .dataframe tbody tr th:only-of-type {\n",
       "        vertical-align: middle;\n",
       "    }\n",
       "\n",
       "    .dataframe tbody tr th {\n",
       "        vertical-align: top;\n",
       "    }\n",
       "\n",
       "    .dataframe thead th {\n",
       "        text-align: right;\n",
       "    }\n",
       "</style>\n",
       "<table border=\"1\" class=\"dataframe\">\n",
       "  <thead>\n",
       "    <tr style=\"text-align: right;\">\n",
       "      <th></th>\n",
       "      <th>Estimate</th>\n",
       "      <th>2.5_ci</th>\n",
       "      <th>97.5_ci</th>\n",
       "      <th>SE</th>\n",
       "      <th>DF</th>\n",
       "      <th>T-stat</th>\n",
       "      <th>P-val</th>\n",
       "      <th>Sig</th>\n",
       "    </tr>\n",
       "  </thead>\n",
       "  <tbody>\n",
       "    <tr>\n",
       "      <th>(Intercept)</th>\n",
       "      <td>0.149</td>\n",
       "      <td>0.002</td>\n",
       "      <td>0.297</td>\n",
       "      <td>0.075</td>\n",
       "      <td>61.475</td>\n",
       "      <td>1.988</td>\n",
       "      <td>0.051</td>\n",
       "      <td>.</td>\n",
       "    </tr>\n",
       "    <tr>\n",
       "      <th>Gain</th>\n",
       "      <td>0.003</td>\n",
       "      <td>-0.002</td>\n",
       "      <td>0.007</td>\n",
       "      <td>0.002</td>\n",
       "      <td>441.571</td>\n",
       "      <td>1.232</td>\n",
       "      <td>0.219</td>\n",
       "      <td></td>\n",
       "    </tr>\n",
       "    <tr>\n",
       "      <th>Loss</th>\n",
       "      <td>-0.017</td>\n",
       "      <td>-0.025</td>\n",
       "      <td>-0.009</td>\n",
       "      <td>0.004</td>\n",
       "      <td>98.519</td>\n",
       "      <td>-4.206</td>\n",
       "      <td>0.000</td>\n",
       "      <td>***</td>\n",
       "    </tr>\n",
       "  </tbody>\n",
       "</table>\n",
       "</div>"
      ],
      "text/plain": [
       "             Estimate  2.5_ci  97.5_ci     SE       DF  T-stat  P-val  Sig\n",
       "(Intercept)     0.149   0.002    0.297  0.075   61.475   1.988  0.051    .\n",
       "Gain            0.003  -0.002    0.007  0.002  441.571   1.232  0.219     \n",
       "Loss           -0.017  -0.025   -0.009  0.004   98.519  -4.206  0.000  ***"
      ]
     },
     "execution_count": 78,
     "metadata": {},
     "output_type": "execute_result"
    },
    {
     "data": {
      "image/png": "[encoded data removed]",
      "text/plain": [
       "<Figure size 432x288 with 1 Axes>"
      ]
     },
     "metadata": {
      "needs_background": "light"
     },
     "output_type": "display_data"
    },
    {
     "data": {
      "image/png": "[encoded data removed]",
      "text/plain": [
       "<Figure size 864x432 with 1 Axes>"
      ]
     },
     "metadata": {
      "needs_background": "light"
     },
     "output_type": "display_data"
    }
   ],
   "source": [
    "calc_zscore = lambda x: (x - x.mean()) / x.std()\n",
    "\n",
    "loss_aversion_metadata['Similarity_z'] = loss_aversion_metadata['Similarity'].groupby(loss_aversion_metadata['Subject']).transform(calc_zscore)\n",
    "\n",
    "model_brain = Lmer(\"Similarity_z ~ Gain + Loss + (Gain + Loss|Subject)\", data=loss_aversion_metadata)\n",
    "\n",
    "model_brain.fit(verbose=False)\n",
    "\n",
    "loss_aversion_parameter_brain = -1*model_brain.fixef['Loss']/(model_brain.fixef['Gain'])\n",
    "\n",
    "with sns.plotting_context(context='paper', font_scale=2):\n",
    "    sns.kdeplot(loss_aversion_parameter_brain, shade='dodgerblue')\n",
    "    plt.xlabel('Loss-Aversion Parameter')\n",
    "#     plt.xlim([-20,55])\n",
    "    plt.tight_layout()\n",
    "    plt.axvline(np.median(loss_aversion_parameter_brain), linestyle='--', color='navy', linewidth=2)\n",
    "    plt.savefig(os.path.join(data_dir, 'Figures', 'Neural_Loss_Aversion', f'Neural_Loss_Aversion_Parameter_{analysis_name}_distribution.png'), dpi=300)\n",
    "    plt.savefig(os.path.join(data_dir, 'Figures', 'Neural_Loss_Aversion', f'Neural_Loss_Aversion_Parameter_{analysis_name}_distribution.pdf'))\n",
    "\n",
    "print(f'\\nMedian Loss Aversion: {np.median(loss_aversion_parameter_brain):.03}\\nMean Loss Aversion: {np.mean(loss_aversion_parameter_brain):.03} \\nSD Loss Aversion: {np.std(loss_aversion_parameter_brain):.03}\\n')\n",
    "\n",
    "model_brain.plot_summary()\n",
    "\n",
    "model_brain.summary()"
   ]
  },
  {
   "cell_type": "markdown",
   "id": "51efcb86",
   "metadata": {},
   "source": [
    "## Prediction Behavioral Loss Aversion from Neural Loss Aversion"
   ]
  },
  {
   "cell_type": "code",
   "execution_count": 86,
   "id": "ea1bc03a",
   "metadata": {
    "ExecuteTime": {
     "end_time": "2022-08-14T01:53:11.215822Z",
     "start_time": "2022-08-14T01:53:10.831607Z"
    },
    "scrolled": false
   },
   "outputs": [
    {
     "name": "stderr",
     "output_type": "stream",
     "text": [
      "R[write to console]: boundary (singular) fit: see help('isSingular')\n",
      "\n"
     ]
    },
    {
     "name": "stdout",
     "output_type": "stream",
     "text": [
      "Fitting linear model using lmer with Wald confidence intervals...\n",
      "\n",
      "boundary (singular) fit: see help('isSingular') \n",
      "\n",
      "Formula: Similarity~Gain+Loss+(Gain+Loss|Subject)\n",
      "\n",
      "Family: gaussian\t Inference: parametric\n",
      "\n",
      "Number of observations: 2736\t Groups: {'Subject': 16.0}\n",
      "\n",
      "Log-likelihood: 6563.198 \t AIC: -13126.397\n",
      "\n",
      "Random effects:\n",
      "\n",
      "                 Name  Var    Std\n",
      "Subject   (Intercept)  0.0  0.000\n",
      "Subject          Gain  0.0  0.000\n",
      "Subject          Loss  0.0  0.000\n",
      "Residual               0.0  0.022\n",
      "\n",
      "                 IV1   IV2      Corr\n",
      "Subject  (Intercept)  Gain          \n",
      "Subject  (Intercept)  Loss          \n",
      "Subject         Gain  Loss  0.998598\n",
      "\n",
      "Fixed effects:\n",
      "\n",
      "Formula: Similarity~Gain+Loss+(Gain+Loss|Subject)\n",
      "\n",
      "Family: gaussian\t Inference: parametric\n",
      "\n",
      "Number of observations: 2736\t Groups: {'Subject': 16.0}\n",
      "\n",
      "Log-likelihood: 6563.198 \t AIC: -13126.397\n",
      "\n",
      "Random effects:\n",
      "\n",
      "                 Name  Var    Std\n",
      "Subject   (Intercept)  0.0  0.000\n",
      "Subject          Gain  0.0  0.000\n",
      "Subject          Loss  0.0  0.000\n",
      "Residual               0.0  0.022\n",
      "\n",
      "                 IV1   IV2      Corr\n",
      "Subject  (Intercept)  Gain          \n",
      "Subject  (Intercept)  Loss          \n",
      "Subject         Gain  Loss  0.998598\n",
      "\n",
      "Fixed effects:\n",
      "\n"
     ]
    },
    {
     "data": {
      "text/html": [
       "<div>\n",
       "<style scoped>\n",
       "    .dataframe tbody tr th:only-of-type {\n",
       "        vertical-align: middle;\n",
       "    }\n",
       "\n",
       "    .dataframe tbody tr th {\n",
       "        vertical-align: top;\n",
       "    }\n",
       "\n",
       "    .dataframe thead th {\n",
       "        text-align: right;\n",
       "    }\n",
       "</style>\n",
       "<table border=\"1\" class=\"dataframe\">\n",
       "  <thead>\n",
       "    <tr style=\"text-align: right;\">\n",
       "      <th></th>\n",
       "      <th>Estimate</th>\n",
       "      <th>2.5_ci</th>\n",
       "      <th>97.5_ci</th>\n",
       "      <th>SE</th>\n",
       "      <th>DF</th>\n",
       "      <th>T-stat</th>\n",
       "      <th>P-val</th>\n",
       "      <th>Sig</th>\n",
       "    </tr>\n",
       "  </thead>\n",
       "  <tbody>\n",
       "    <tr>\n",
       "      <th>(Intercept)</th>\n",
       "      <td>-0.001</td>\n",
       "      <td>-0.004</td>\n",
       "      <td>0.002</td>\n",
       "      <td>0.002</td>\n",
       "      <td>2717.581</td>\n",
       "      <td>-0.557</td>\n",
       "      <td>0.578</td>\n",
       "      <td></td>\n",
       "    </tr>\n",
       "    <tr>\n",
       "      <th>Gain</th>\n",
       "      <td>0.000</td>\n",
       "      <td>-0.000</td>\n",
       "      <td>0.000</td>\n",
       "      <td>0.000</td>\n",
       "      <td>98.873</td>\n",
       "      <td>1.128</td>\n",
       "      <td>0.262</td>\n",
       "      <td></td>\n",
       "    </tr>\n",
       "    <tr>\n",
       "      <th>Loss</th>\n",
       "      <td>-0.000</td>\n",
       "      <td>-0.001</td>\n",
       "      <td>-0.000</td>\n",
       "      <td>0.000</td>\n",
       "      <td>42.864</td>\n",
       "      <td>-3.840</td>\n",
       "      <td>0.000</td>\n",
       "      <td>***</td>\n",
       "    </tr>\n",
       "  </tbody>\n",
       "</table>\n",
       "</div>"
      ],
      "text/plain": [
       "             Estimate  2.5_ci  97.5_ci     SE        DF  T-stat  P-val  Sig\n",
       "(Intercept)    -0.001  -0.004    0.002  0.002  2717.581  -0.557  0.578     \n",
       "Gain            0.000  -0.000    0.000  0.000    98.873   1.128  0.262     \n",
       "Loss           -0.000  -0.001   -0.000  0.000    42.864  -3.840  0.000  ***"
      ]
     },
     "execution_count": 86,
     "metadata": {},
     "output_type": "execute_result"
    }
   ],
   "source": [
    "model_brain = Lmer(\"Similarity ~ Gain + Loss + (Gain + Loss|Subject)\", data=loss_aversion_metadata)\n",
    "model_brain.fit(verbose=True)\n",
    "\n",
    "loss_aversion_parameter_brain = -1*model_brain.fixef['Loss']/(model_brain.fixef['Gain'])\n",
    "model_brain.summary()"
   ]
  },
  {
   "cell_type": "code",
   "execution_count": 80,
   "id": "edd14410",
   "metadata": {
    "ExecuteTime": {
     "end_time": "2022-08-14T01:51:57.458261Z",
     "start_time": "2022-08-14T01:51:55.233450Z"
    }
   },
   "outputs": [
    {
     "name": "stdout",
     "output_type": "stream",
     "text": [
      "0.4794117647058824 0.0313968603139686\n"
     ]
    }
   ],
   "source": [
    "n_permute = 10000\n",
    "permuted_r = []\n",
    "for i in range(n_permute):\n",
    "    permuted_r.append(spearmanr(np.random.permutation(loss_aversion_parameter_brain), loss_aversion_parameter_behavior)[0])\n",
    "r = spearmanr(loss_aversion_parameter_brain, loss_aversion_parameter_behavior)[0]\n",
    "p = _calc_pvalue(permuted_r, r, 1)\n",
    "print(r, p)\n",
    "\n"
   ]
  },
  {
   "cell_type": "code",
   "execution_count": 84,
   "id": "a6f7da37",
   "metadata": {
    "ExecuteTime": {
     "end_time": "2022-08-14T01:52:25.021411Z",
     "start_time": "2022-08-14T01:52:24.725330Z"
    }
   },
   "outputs": [
    {
     "data": {
      "image/png": "[encoded data removed]",
      "text/plain": [
       "<Figure size 360x360 with 1 Axes>"
      ]
     },
     "metadata": {
      "needs_background": "light"
     },
     "output_type": "display_data"
    }
   ],
   "source": [
    "loss_aversion = pd.DataFrame({'Behavior':loss_aversion_parameter_behavior,\n",
    "                              'Brain':loss_aversion_parameter_brain})\n",
    "\n",
    "with sns.plotting_context(context='paper', font_scale=2):\n",
    "    sns.lmplot(data=loss_aversion.rank(), y='Behavior', x='Brain')\n",
    "    plt.ylabel('Behavior Loss-Aversion')\n",
    "    plt.xlabel('Neural Loss-Aversion')\n",
    "#     plt.xlim([1,16])\n",
    "    plt.tight_layout()\n",
    "#     plt.axvline(np.median(loss_aversion_parameter_behavior), linestyle='--', color='navy', linewidth=2)\n",
    "    plt.savefig(os.path.join(data_dir, 'Figures', 'Neural_Loss_Aversion', f'Loss_Aversion_Brain_Behavior_Correlation_{analysis_name}.png'), dpi=300)\n",
    "    plt.savefig(os.path.join(data_dir, 'Figures', 'Neural_Loss_Aversion', f'Loss_Aversion_Brain_Behavior_Correlation_{analysis_name}.pdf'))\n",
    "\n"
   ]
  },
  {
   "cell_type": "markdown",
   "id": "9a363a3a",
   "metadata": {},
   "source": [
    "# Test Friday Night Lights - Naturalistic Data"
   ]
  },
  {
   "cell_type": "markdown",
   "id": "0ef10476",
   "metadata": {},
   "source": [
    "## Compute pattern similarity (Only need to run once)"
   ]
  },
  {
   "cell_type": "code",
   "execution_count": 95,
   "id": "bd8e9203",
   "metadata": {
    "ExecuteTime": {
     "end_time": "2022-08-14T02:06:42.486439Z",
     "start_time": "2022-08-14T01:57:24.021559Z"
    }
   },
   "outputs": [
    {
     "name": "stderr",
     "output_type": "stream",
     "text": [
      "100%|███████████████████████████████████| 35/35 [08:00<00:00, 13.72s/it]\n",
      "100%|███████████████████████████████████| 35/35 [01:17<00:00,  2.21s/it]\n"
     ]
    }
   ],
   "source": [
    "# fnl_fmri_dir = '/Storage/Data/FridayNightLights_Study2/derivatives/denoised/smoothed'\n",
    "fnl_fmri_dir = '/Storage/Data/FridayNightLights_Study2/derivatives/denoised_original'\n",
    "fnl_data_dir = '/Storage/Projects/vmpfc/Data'\n",
    "\n",
    "similarity_method = 'correlation'\n",
    "\n",
    "# Get Reward Model Predictions\n",
    "for analysis_name in ['demeaned_zscore1_smooth0', 'masked_demeaned_zscore1_smooth0']:\n",
    "    reward_model = Brain_Data(os.path.join(data_dir, 'Analyses', 'Classification', f'SVM_HCP_Reward_vs_Punish_n392_{analysis_name}_weightmap.nii.gz'))\n",
    "    file_list = glob.glob(os.path.join(fnl_fmri_dir, '*hdf5'))\n",
    "\n",
    "    fnl_similarity = {}\n",
    "    for f in tqdm(file_list):\n",
    "        sub = os.path.basename(f).split('_')[0]\n",
    "        dat = Brain_Data(f)\n",
    "        fnl_similarity[sub] = dat.similarity(reward_model, method=similarity_method)\n",
    "    fnl_similarity = pd.DataFrame(fnl_similarity)\n",
    "    fnl_similarity.to_csv(os.path.join(data_dir, 'Analyses', 'FNL_Pattern_Similarity', f'FNL_Reward_Pattern_Similarity_{analysis_name}_{similarity_method}.csv'), index=False)\n"
   ]
  },
  {
   "cell_type": "markdown",
   "id": "dd0c8adb",
   "metadata": {},
   "source": [
    "## Compute ISC for Reward Model During Final Football Scene"
   ]
  },
  {
   "cell_type": "code",
   "execution_count": 133,
   "id": "24924ca6",
   "metadata": {
    "ExecuteTime": {
     "end_time": "2022-08-14T02:29:54.036243Z",
     "start_time": "2022-08-14T02:29:52.486345Z"
    }
   },
   "outputs": [
    {
     "data": {
      "text/plain": [
       "{'isc': 0.31076109947151537,\n",
       " 'p': 0.0001999600079984003,\n",
       " 'ci': (0.28614748831120507, 0.35815795770206865)}"
      ]
     },
     "execution_count": 133,
     "metadata": {},
     "output_type": "execute_result"
    }
   ],
   "source": [
    "fnl_similarity = pd.read_csv(os.path.join(data_dir, 'Analyses', 'FNL_Pattern_Similarity', f'FNL_Reward_Pattern_Similarity_{analysis_name}_{similarity_method}.csv'))\n",
    "fnl_similarity['TR'] = fnl_similarity.index\n",
    "reward =  fnl_similarity.iloc[1175:1275, :]\n",
    "reward.drop(columns='TR')\n",
    "\n",
    "isc_stats = isc(reward.drop(columns='TR'), metric='mean')\n",
    "isc_stats"
   ]
  },
  {
   "cell_type": "markdown",
   "id": "bc6135cd",
   "metadata": {},
   "source": [
    "## Compute ISC for Reward Model Over Entire Episode"
   ]
  },
  {
   "cell_type": "code",
   "execution_count": 132,
   "id": "b28bc963",
   "metadata": {
    "ExecuteTime": {
     "end_time": "2022-08-14T02:28:30.093690Z",
     "start_time": "2022-08-14T02:28:28.610004Z"
    }
   },
   "outputs": [
    {
     "data": {
      "text/plain": [
       "{'isc': 0.3514517700197037,\n",
       " 'p': 0.0001999600079984003,\n",
       " 'ci': (0.32272764524555975, 0.40178262547411575)}"
      ]
     },
     "execution_count": 132,
     "metadata": {},
     "output_type": "execute_result"
    }
   ],
   "source": [
    "fnl_similarity = pd.read_csv(os.path.join(data_dir, 'Analyses', 'FNL_Pattern_Similarity', f'FNL_Reward_Pattern_Similarity_{analysis_name}_{similarity_method}.csv'))\n",
    "\n",
    "isc_stats = isc(fnl_similarity, metric='mean')\n",
    "isc_stats"
   ]
  },
  {
   "cell_type": "markdown",
   "id": "1e9dfe1d",
   "metadata": {},
   "source": [
    "## Compute ISC in Visual Cortex"
   ]
  },
  {
   "cell_type": "code",
   "execution_count": 104,
   "id": "9066a42e",
   "metadata": {
    "ExecuteTime": {
     "end_time": "2022-08-14T02:14:40.628257Z",
     "start_time": "2022-08-14T02:13:55.244046Z"
    }
   },
   "outputs": [
    {
     "name": "stderr",
     "output_type": "stream",
     "text": [
      "100%|███████████████████████████████████| 35/35 [00:38<00:00,  1.11s/it]\n"
     ]
    },
    {
     "data": {
      "text/plain": [
       "{'isc': 0.333462179161094,\n",
       " 'p': 0.0001999600079984003,\n",
       " 'ci': (0.2792247680597074, 0.3973745973430084)}"
      ]
     },
     "execution_count": 104,
     "metadata": {},
     "output_type": "execute_result"
    }
   ],
   "source": [
    "from nltools.stats import isc\n",
    "\n",
    "roi = 4\n",
    "mask = Brain_Data(os.path.join(data_dir, 'Masks','k50_2mm.nii.gz'))\n",
    "mask_x = expand_mask(mask)\n",
    "\n",
    "file_list = glob.glob(os.path.join('/Storage/Data/FridayNightLights_Study2/derivatives/denoised/smoothed', '*hdf5'))\n",
    "out = []\n",
    "for f in tqdm(file_list):\n",
    "    sub = os.path.basename(f).split('_')[0]\n",
    "    sub_data = Brain_Data(f)\n",
    "    out.append({'sub':sub, 'V1':sub_data.apply_mask(mask_x[roi]).mean(axis=1)})\n",
    "\n",
    "out = pd.DataFrame(out)\n",
    "\n",
    "v1 = pd.DataFrame([x for x in out['V1']]).T\n",
    "isc_stats = isc(v1, metric='mean')\n",
    "isc_stats"
   ]
  },
  {
   "cell_type": "markdown",
   "id": "1643353e",
   "metadata": {},
   "source": [
    "## Create Face Model based on Reward Model Predictions"
   ]
  },
  {
   "cell_type": "markdown",
   "id": "f1a9a27b",
   "metadata": {},
   "source": [
    "### Prepare AU Data (only need to run once)"
   ]
  },
  {
   "cell_type": "code",
   "execution_count": null,
   "id": "e1bc3923",
   "metadata": {},
   "outputs": [],
   "source": [
    "# Create average AU by Time\n",
    "file_list = glob.glob(os.path.join(fnl_data_dir, 'Study3_FaceExpressions','*_FaceExpression_AU_0.5hz.csv'))\n",
    "sub_out = []\n",
    "for f in file_list:\n",
    "    sub = os.path.basename(f).split('_')[0]\n",
    "    tmp = center(pd.read_csv(f,index_col=0))\n",
    "    au_list = tmp.columns\n",
    "    tmp['Subject']  = sub\n",
    "    sub_out.append(tmp)\n",
    "sub_out = pd.concat(sub_out)\n",
    "sub_out.reset_index(inplace=True, drop=True)\n",
    "au_mean = {}\n",
    "for au in list(sub_out.columns[:-1]):\n",
    "    au_subs = {}\n",
    "    for sub in sub_out['Subject'].unique():\n",
    "        au_subs[sub] = sub_out.query('Subject==@sub')[au].values\n",
    "    au_mean[au] = pd.DataFrame(au_subs).mean(axis=1)\n",
    "au_mean = zscore(pd.DataFrame(au_mean))\n",
    "au_mean.to_csv(os.path.join(data_dir, 'Analyses', 'FNL_Pattern_Similarity','FNL_AU_Mean.csv'), index=False)\n"
   ]
  },
  {
   "cell_type": "markdown",
   "id": "93bae7d0",
   "metadata": {},
   "source": [
    "### Estimate Cross-Validated Face Expression Model"
   ]
  },
  {
   "cell_type": "code",
   "execution_count": 100,
   "id": "d5bb50cd",
   "metadata": {
    "ExecuteTime": {
     "end_time": "2022-08-14T02:10:25.758245Z",
     "start_time": "2022-08-14T02:10:25.631936Z"
    }
   },
   "outputs": [
    {
     "name": "stdout",
     "output_type": "stream",
     "text": [
      "Formula: Reward~AU1+AU2+AU4+AU5+AU6+AU7+AU9+AU10+AU12+AU14+AU15+AU17+AU18+AU20+AU23+AU24+AU25+AU26+AU28+AU43\n",
      "\n",
      "Family: gaussian\t Estimator: OLS\n",
      "\n",
      "Std-errors: non-robust\tCIs: standard 95%\tInference: parametric \n",
      "\n",
      "Number of observations: 2800\t R^2: 0.175\t R^2_adj: 0.169\n",
      "\n",
      "Log-likelihood: 5122.938 \t AIC: -10203.876\t BIC: -10079.191\n",
      "\n",
      "Fixed effects:\n",
      "\n",
      "Formula: Reward~AU1+AU2+AU4+AU5+AU6+AU7+AU9+AU10+AU12+AU14+AU15+AU17+AU18+AU20+AU23+AU24+AU25+AU26+AU28+AU43\n",
      "\n",
      "Family: gaussian\t Estimator: OLS\n",
      "\n",
      "Std-errors: non-robust\tCIs: standard 95%\tInference: parametric \n",
      "\n",
      "Number of observations: 2800\t R^2: 0.191\t R^2_adj: 0.185\n",
      "\n",
      "Log-likelihood: 5091.415 \t AIC: -10140.831\t BIC: -10016.146\n",
      "\n",
      "Fixed effects:\n",
      "\n",
      "Formula: Reward~AU1+AU2+AU4+AU5+AU6+AU7+AU9+AU10+AU12+AU14+AU15+AU17+AU18+AU20+AU23+AU24+AU25+AU26+AU28+AU43\n",
      "\n",
      "Family: gaussian\t Estimator: OLS\n",
      "\n",
      "Std-errors: non-robust\tCIs: standard 95%\tInference: parametric \n",
      "\n",
      "Number of observations: 2800\t R^2: 0.189\t R^2_adj: 0.183\n",
      "\n",
      "Log-likelihood: 5182.873 \t AIC: -10323.745\t BIC: -10199.060\n",
      "\n",
      "Fixed effects:\n",
      "\n",
      "Formula: Reward~AU1+AU2+AU4+AU5+AU6+AU7+AU9+AU10+AU12+AU14+AU15+AU17+AU18+AU20+AU23+AU24+AU25+AU26+AU28+AU43\n",
      "\n",
      "Family: gaussian\t Estimator: OLS\n",
      "\n",
      "Std-errors: non-robust\tCIs: standard 95%\tInference: parametric \n",
      "\n",
      "Number of observations: 2800\t R^2: 0.177\t R^2_adj: 0.171\n",
      "\n",
      "Log-likelihood: 5102.827 \t AIC: -10163.654\t BIC: -10038.969\n",
      "\n",
      "Fixed effects:\n",
      "\n",
      "Formula: Reward~AU1+AU2+AU4+AU5+AU6+AU7+AU9+AU10+AU12+AU14+AU15+AU17+AU18+AU20+AU23+AU24+AU25+AU26+AU28+AU43\n",
      "\n",
      "Family: gaussian\t Estimator: OLS\n",
      "\n",
      "Std-errors: non-robust\tCIs: standard 95%\tInference: parametric \n",
      "\n",
      "Number of observations: 2800\t R^2: 0.163\t R^2_adj: 0.157\n",
      "\n",
      "Log-likelihood: 5149.066 \t AIC: -10256.133\t BIC: -10131.448\n",
      "\n",
      "Fixed effects:\n",
      "\n"
     ]
    },
    {
     "name": "stderr",
     "output_type": "stream",
     "text": [
      "/tmp/ipykernel_783552/1680626347.py:23: SettingWithCopyWarning: \n",
      "A value is trying to be set on a copy of a slice from a DataFrame\n",
      "\n",
      "See the caveats in the documentation: https://pandas.pydata.org/pandas-docs/stable/user_guide/indexing.html#returning-a-view-versus-a-copy\n",
      "  combined_long['Face_Prediction'].iloc[test_index] = au_regress.predict(combined_long.iloc[test_index,:])\n",
      "/tmp/ipykernel_783552/1680626347.py:23: SettingWithCopyWarning: \n",
      "A value is trying to be set on a copy of a slice from a DataFrame\n",
      "\n",
      "See the caveats in the documentation: https://pandas.pydata.org/pandas-docs/stable/user_guide/indexing.html#returning-a-view-versus-a-copy\n",
      "  combined_long['Face_Prediction'].iloc[test_index] = au_regress.predict(combined_long.iloc[test_index,:])\n",
      "/tmp/ipykernel_783552/1680626347.py:23: SettingWithCopyWarning: \n",
      "A value is trying to be set on a copy of a slice from a DataFrame\n",
      "\n",
      "See the caveats in the documentation: https://pandas.pydata.org/pandas-docs/stable/user_guide/indexing.html#returning-a-view-versus-a-copy\n",
      "  combined_long['Face_Prediction'].iloc[test_index] = au_regress.predict(combined_long.iloc[test_index,:])\n",
      "/tmp/ipykernel_783552/1680626347.py:23: SettingWithCopyWarning: \n",
      "A value is trying to be set on a copy of a slice from a DataFrame\n",
      "\n",
      "See the caveats in the documentation: https://pandas.pydata.org/pandas-docs/stable/user_guide/indexing.html#returning-a-view-versus-a-copy\n",
      "  combined_long['Face_Prediction'].iloc[test_index] = au_regress.predict(combined_long.iloc[test_index,:])\n",
      "/tmp/ipykernel_783552/1680626347.py:23: SettingWithCopyWarning: \n",
      "A value is trying to be set on a copy of a slice from a DataFrame\n",
      "\n",
      "See the caveats in the documentation: https://pandas.pydata.org/pandas-docs/stable/user_guide/indexing.html#returning-a-view-versus-a-copy\n",
      "  combined_long['Face_Prediction'].iloc[test_index] = au_regress.predict(combined_long.iloc[test_index,:])\n"
     ]
    }
   ],
   "source": [
    "similarity_method = 'correlation'\n",
    "\n",
    "au_mean = zscore(pd.read_csv(os.path.join(data_dir, 'Analyses', 'FNL_Pattern_Similarity', 'FNL_AU_Mean.csv')))\n",
    "\n",
    "fnl_similarity = pd.read_csv(os.path.join(data_dir, 'Analyses', 'FNL_Pattern_Similarity', f'FNL_Reward_Pattern_Similarity_{analysis_name}_{similarity_method}.csv'))\n",
    "fnl_similarity['TR'] = fnl_similarity.index\n",
    "fnl_similarity = fnl_similarity.iloc[:au_mean.shape[0]]\n",
    "au_mean = au_mean.iloc[1175:1275, :]\n",
    "reward =  fnl_similarity.iloc[1175:1275, :]\n",
    "combined = pd.concat([reward, au_mean], axis=1)\n",
    "combined_long = combined.melt(id_vars=list(au_mean.columns)+['TR'], var_name='Subject', value_name='Reward')\n",
    "\n",
    "# LOSO Cross-Validate\n",
    "group_kfold = GroupKFold(n_splits=5)\n",
    "X = combined_long.loc[:,['AU1','AU2','AU4','AU5','AU6','AU7','AU9','AU10','AU12','AU14','AU15','AU17','AU18','AU20','AU23','AU24','AU25','AU26','AU28','AU43']].values\n",
    "y = combined_long['Reward'].values\n",
    "grouping = combined_long['Subject'].values\n",
    "\n",
    "combined_long['Face_Prediction'] = np.nan\n",
    "for train_index, test_index in group_kfold.split(X, y, grouping):\n",
    "    au_regress = Lm(\"Reward ~ AU1 + AU2 + AU4 + AU5 + AU6 + AU7 + AU9 + AU10 + AU12 + AU14 + AU15 + AU17 + AU18 + AU20 + AU23 + AU24 + AU25 + AU26 + AU28 + AU43\", data=combined_long.iloc[train_index,:])\n",
    "    au_regress.fit(verbose=False)\n",
    "    combined_long['Face_Prediction'].iloc[test_index] = au_regress.predict(combined_long.iloc[test_index,:])\n"
   ]
  },
  {
   "cell_type": "markdown",
   "id": "991c05cb",
   "metadata": {},
   "source": [
    "### Cross-Validated Predictions"
   ]
  },
  {
   "cell_type": "code",
   "execution_count": 101,
   "id": "cbacd34c",
   "metadata": {
    "ExecuteTime": {
     "end_time": "2022-08-14T02:10:47.256512Z",
     "start_time": "2022-08-14T02:10:41.144939Z"
    }
   },
   "outputs": [
    {
     "name": "stdout",
     "output_type": "stream",
     "text": [
      "Mean: 0.39, SD: 0.12\n"
     ]
    },
    {
     "data": {
      "text/plain": [
       "{'mean': 0.3947270155586987, 'p': 0.0001999600079984003}"
      ]
     },
     "execution_count": 101,
     "metadata": {},
     "output_type": "execute_result"
    },
    {
     "data": {
      "image/png": "[encoded data removed]",
      "text/plain": [
       "<Figure size 432x288 with 1 Axes>"
      ]
     },
     "metadata": {
      "needs_background": "light"
     },
     "output_type": "display_data"
    }
   ],
   "source": [
    "sub_list = combined_long['Subject'].unique()\n",
    "\n",
    "xval_r = []\n",
    "for sub in sub_list:\n",
    "    xval_r.append(spearmanr(combined_long.query('Subject==@sub')['Reward'], combined_long.query('Subject==@sub')['Face_Prediction'])[0])\n",
    "plt.hist(xval_r)\n",
    "print(f'Mean: {np.mean(xval_r):.02}, SD: {np.std(xval_r):.02}')\n",
    "\n",
    "one_sample_permutation(xval_r)"
   ]
  },
  {
   "cell_type": "markdown",
   "id": "02f976f7",
   "metadata": {},
   "source": [
    "### Plot Average Estimated Face Model"
   ]
  },
  {
   "cell_type": "code",
   "execution_count": 121,
   "id": "6402458d",
   "metadata": {
    "ExecuteTime": {
     "end_time": "2022-08-14T02:21:05.203256Z",
     "start_time": "2022-08-14T02:21:04.488313Z"
    },
    "scrolled": true
   },
   "outputs": [
    {
     "name": "stdout",
     "output_type": "stream",
     "text": [
      "Formula: Reward~AU1+AU2+AU4+AU5+AU6+AU7+AU9+AU10+AU12+AU14+AU15+AU17+AU18+AU20+AU23+AU24+AU25+AU26+AU28+AU43\n",
      "\n",
      "Family: gaussian\t Estimator: OLS\n",
      "\n",
      "Std-errors: non-robust\tCIs: standard 95%\tInference: parametric \n",
      "\n",
      "Number of observations: 100\t R^2: 0.331\t R^2_adj: 0.162\n",
      "\n",
      "Log-likelihood: 197.036 \t AIC: -352.073\t BIC: -297.364\n",
      "\n",
      "Fixed effects:\n",
      "\n",
      "Formula: Reward~AU1+AU2+AU4+AU5+AU6+AU7+AU9+AU10+AU12+AU14+AU15+AU17+AU18+AU20+AU23+AU24+AU25+AU26+AU28+AU43\n",
      "\n",
      "Family: gaussian\t Estimator: OLS\n",
      "\n",
      "Std-errors: non-robust\tCIs: standard 95%\tInference: parametric \n",
      "\n",
      "Number of observations: 100\t R^2: 0.352\t R^2_adj: 0.188\n",
      "\n",
      "Log-likelihood: 179.452 \t AIC: -316.904\t BIC: -262.195\n",
      "\n",
      "Fixed effects:\n",
      "\n",
      "Formula: Reward~AU1+AU2+AU4+AU5+AU6+AU7+AU9+AU10+AU12+AU14+AU15+AU17+AU18+AU20+AU23+AU24+AU25+AU26+AU28+AU43\n",
      "\n",
      "Family: gaussian\t Estimator: OLS\n",
      "\n",
      "Std-errors: non-robust\tCIs: standard 95%\tInference: parametric \n",
      "\n",
      "Number of observations: 100\t R^2: 0.393\t R^2_adj: 0.239\n",
      "\n",
      "Log-likelihood: 211.828 \t AIC: -381.656\t BIC: -326.948\n",
      "\n",
      "Fixed effects:\n",
      "\n",
      "Formula: Reward~AU1+AU2+AU4+AU5+AU6+AU7+AU9+AU10+AU12+AU14+AU15+AU17+AU18+AU20+AU23+AU24+AU25+AU26+AU28+AU43\n",
      "\n",
      "Family: gaussian\t Estimator: OLS\n",
      "\n",
      "Std-errors: non-robust\tCIs: standard 95%\tInference: parametric \n",
      "\n",
      "Number of observations: 100\t R^2: 0.405\t R^2_adj: 0.255\n",
      "\n",
      "Log-likelihood: 194.337 \t AIC: -346.675\t BIC: -291.966\n",
      "\n",
      "Fixed effects:\n",
      "\n",
      "Formula: Reward~AU1+AU2+AU4+AU5+AU6+AU7+AU9+AU10+AU12+AU14+AU15+AU17+AU18+AU20+AU23+AU24+AU25+AU26+AU28+AU43\n",
      "\n",
      "Family: gaussian\t Estimator: OLS\n",
      "\n",
      "Std-errors: non-robust\tCIs: standard 95%\tInference: parametric \n",
      "\n",
      "Number of observations: 100\t R^2: 0.386\t R^2_adj: 0.230\n",
      "\n",
      "Log-likelihood: 219.878 \t AIC: -397.755\t BIC: -343.047\n",
      "\n",
      "Fixed effects:\n",
      "\n",
      "Formula: Reward~AU1+AU2+AU4+AU5+AU6+AU7+AU9+AU10+AU12+AU14+AU15+AU17+AU18+AU20+AU23+AU24+AU25+AU26+AU28+AU43\n",
      "\n",
      "Family: gaussian\t Estimator: OLS\n",
      "\n",
      "Std-errors: non-robust\tCIs: standard 95%\tInference: parametric \n",
      "\n",
      "Number of observations: 100\t R^2: 0.437\t R^2_adj: 0.295\n",
      "\n",
      "Log-likelihood: 226.378 \t AIC: -410.756\t BIC: -356.047\n",
      "\n",
      "Fixed effects:\n",
      "\n",
      "Formula: Reward~AU1+AU2+AU4+AU5+AU6+AU7+AU9+AU10+AU12+AU14+AU15+AU17+AU18+AU20+AU23+AU24+AU25+AU26+AU28+AU43\n",
      "\n",
      "Family: gaussian\t Estimator: OLS\n",
      "\n",
      "Std-errors: non-robust\tCIs: standard 95%\tInference: parametric \n",
      "\n",
      "Number of observations: 100\t R^2: 0.463\t R^2_adj: 0.327\n",
      "\n",
      "Log-likelihood: 216.940 \t AIC: -391.881\t BIC: -337.172\n",
      "\n",
      "Fixed effects:\n",
      "\n",
      "Formula: Reward~AU1+AU2+AU4+AU5+AU6+AU7+AU9+AU10+AU12+AU14+AU15+AU17+AU18+AU20+AU23+AU24+AU25+AU26+AU28+AU43\n",
      "\n",
      "Family: gaussian\t Estimator: OLS\n",
      "\n",
      "Std-errors: non-robust\tCIs: standard 95%\tInference: parametric \n",
      "\n",
      "Number of observations: 100\t R^2: 0.517\t R^2_adj: 0.395\n",
      "\n",
      "Log-likelihood: 218.678 \t AIC: -395.357\t BIC: -340.648\n",
      "\n",
      "Fixed effects:\n",
      "\n",
      "Formula: Reward~AU1+AU2+AU4+AU5+AU6+AU7+AU9+AU10+AU12+AU14+AU15+AU17+AU18+AU20+AU23+AU24+AU25+AU26+AU28+AU43\n",
      "\n",
      "Family: gaussian\t Estimator: OLS\n",
      "\n",
      "Std-errors: non-robust\tCIs: standard 95%\tInference: parametric \n",
      "\n",
      "Number of observations: 100\t R^2: 0.406\t R^2_adj: 0.256\n",
      "\n",
      "Log-likelihood: 198.976 \t AIC: -355.952\t BIC: -301.244\n",
      "\n",
      "Fixed effects:\n",
      "\n",
      "Formula: Reward~AU1+AU2+AU4+AU5+AU6+AU7+AU9+AU10+AU12+AU14+AU15+AU17+AU18+AU20+AU23+AU24+AU25+AU26+AU28+AU43\n",
      "\n",
      "Family: gaussian\t Estimator: OLS\n",
      "\n",
      "Std-errors: non-robust\tCIs: standard 95%\tInference: parametric \n",
      "\n",
      "Number of observations: 100\t R^2: 0.543\t R^2_adj: 0.428\n",
      "\n",
      "Log-likelihood: 207.375 \t AIC: -372.749\t BIC: -318.041\n",
      "\n",
      "Fixed effects:\n",
      "\n",
      "Formula: Reward~AU1+AU2+AU4+AU5+AU6+AU7+AU9+AU10+AU12+AU14+AU15+AU17+AU18+AU20+AU23+AU24+AU25+AU26+AU28+AU43\n",
      "\n",
      "Family: gaussian\t Estimator: OLS\n",
      "\n",
      "Std-errors: non-robust\tCIs: standard 95%\tInference: parametric \n",
      "\n",
      "Number of observations: 100\t R^2: 0.440\t R^2_adj: 0.298\n",
      "\n",
      "Log-likelihood: 209.492 \t AIC: -376.985\t BIC: -322.276\n",
      "\n",
      "Fixed effects:\n",
      "\n",
      "Formula: Reward~AU1+AU2+AU4+AU5+AU6+AU7+AU9+AU10+AU12+AU14+AU15+AU17+AU18+AU20+AU23+AU24+AU25+AU26+AU28+AU43\n",
      "\n",
      "Family: gaussian\t Estimator: OLS\n",
      "\n",
      "Std-errors: non-robust\tCIs: standard 95%\tInference: parametric \n",
      "\n",
      "Number of observations: 100\t R^2: 0.439\t R^2_adj: 0.297\n",
      "\n",
      "Log-likelihood: 187.697 \t AIC: -333.393\t BIC: -278.684\n",
      "\n",
      "Fixed effects:\n",
      "\n",
      "Formula: Reward~AU1+AU2+AU4+AU5+AU6+AU7+AU9+AU10+AU12+AU14+AU15+AU17+AU18+AU20+AU23+AU24+AU25+AU26+AU28+AU43\n",
      "\n",
      "Family: gaussian\t Estimator: OLS\n",
      "\n",
      "Std-errors: non-robust\tCIs: standard 95%\tInference: parametric \n",
      "\n",
      "Number of observations: 100\t R^2: 0.283\t R^2_adj: 0.102\n",
      "\n",
      "Log-likelihood: 227.064 \t AIC: -412.128\t BIC: -357.420\n",
      "\n",
      "Fixed effects:\n",
      "\n",
      "Formula: Reward~AU1+AU2+AU4+AU5+AU6+AU7+AU9+AU10+AU12+AU14+AU15+AU17+AU18+AU20+AU23+AU24+AU25+AU26+AU28+AU43\n",
      "\n",
      "Family: gaussian\t Estimator: OLS\n",
      "\n",
      "Std-errors: non-robust\tCIs: standard 95%\tInference: parametric \n",
      "\n",
      "Number of observations: 100\t R^2: 0.309\t R^2_adj: 0.134\n",
      "\n",
      "Log-likelihood: 193.121 \t AIC: -344.242\t BIC: -289.534\n",
      "\n",
      "Fixed effects:\n",
      "\n",
      "Formula: Reward~AU1+AU2+AU4+AU5+AU6+AU7+AU9+AU10+AU12+AU14+AU15+AU17+AU18+AU20+AU23+AU24+AU25+AU26+AU28+AU43\n",
      "\n",
      "Family: gaussian\t Estimator: OLS\n",
      "\n",
      "Std-errors: non-robust\tCIs: standard 95%\tInference: parametric \n",
      "\n",
      "Number of observations: 100\t R^2: 0.508\t R^2_adj: 0.384\n",
      "\n",
      "Log-likelihood: 211.953 \t AIC: -381.905\t BIC: -327.197\n",
      "\n",
      "Fixed effects:\n",
      "\n",
      "Formula: Reward~AU1+AU2+AU4+AU5+AU6+AU7+AU9+AU10+AU12+AU14+AU15+AU17+AU18+AU20+AU23+AU24+AU25+AU26+AU28+AU43\n",
      "\n",
      "Family: gaussian\t Estimator: OLS\n",
      "\n",
      "Std-errors: non-robust\tCIs: standard 95%\tInference: parametric \n",
      "\n",
      "Number of observations: 100\t R^2: 0.358\t R^2_adj: 0.196\n",
      "\n",
      "Log-likelihood: 216.268 \t AIC: -390.536\t BIC: -335.827\n",
      "\n",
      "Fixed effects:\n",
      "\n",
      "Formula: Reward~AU1+AU2+AU4+AU5+AU6+AU7+AU9+AU10+AU12+AU14+AU15+AU17+AU18+AU20+AU23+AU24+AU25+AU26+AU28+AU43\n",
      "\n",
      "Family: gaussian\t Estimator: OLS\n",
      "\n",
      "Std-errors: non-robust\tCIs: standard 95%\tInference: parametric \n",
      "\n",
      "Number of observations: 100\t R^2: 0.426\t R^2_adj: 0.281\n",
      "\n",
      "Log-likelihood: 186.590 \t AIC: -331.181\t BIC: -276.472\n",
      "\n",
      "Fixed effects:\n",
      "\n",
      "Formula: Reward~AU1+AU2+AU4+AU5+AU6+AU7+AU9+AU10+AU12+AU14+AU15+AU17+AU18+AU20+AU23+AU24+AU25+AU26+AU28+AU43\n",
      "\n",
      "Family: gaussian\t Estimator: OLS\n",
      "\n",
      "Std-errors: non-robust\tCIs: standard 95%\tInference: parametric \n",
      "\n",
      "Number of observations: 100\t R^2: 0.357\t R^2_adj: 0.194\n",
      "\n",
      "Log-likelihood: 178.625 \t AIC: -315.250\t BIC: -260.541\n",
      "\n",
      "Fixed effects:\n",
      "\n",
      "Formula: Reward~AU1+AU2+AU4+AU5+AU6+AU7+AU9+AU10+AU12+AU14+AU15+AU17+AU18+AU20+AU23+AU24+AU25+AU26+AU28+AU43\n",
      "\n",
      "Family: gaussian\t Estimator: OLS\n",
      "\n",
      "Std-errors: non-robust\tCIs: standard 95%\tInference: parametric \n",
      "\n",
      "Number of observations: 100\t R^2: 0.477\t R^2_adj: 0.345\n",
      "\n",
      "Log-likelihood: 201.138 \t AIC: -360.277\t BIC: -305.568\n",
      "\n",
      "Fixed effects:\n",
      "\n",
      "Formula: Reward~AU1+AU2+AU4+AU5+AU6+AU7+AU9+AU10+AU12+AU14+AU15+AU17+AU18+AU20+AU23+AU24+AU25+AU26+AU28+AU43\n",
      "\n",
      "Family: gaussian\t Estimator: OLS\n",
      "\n",
      "Std-errors: non-robust\tCIs: standard 95%\tInference: parametric \n",
      "\n",
      "Number of observations: 100\t R^2: 0.432\t R^2_adj: 0.288\n",
      "\n",
      "Log-likelihood: 194.328 \t AIC: -346.655\t BIC: -291.947\n",
      "\n",
      "Fixed effects:\n",
      "\n",
      "Formula: Reward~AU1+AU2+AU4+AU5+AU6+AU7+AU9+AU10+AU12+AU14+AU15+AU17+AU18+AU20+AU23+AU24+AU25+AU26+AU28+AU43\n",
      "\n",
      "Family: gaussian\t Estimator: OLS\n",
      "\n",
      "Std-errors: non-robust\tCIs: standard 95%\tInference: parametric \n",
      "\n",
      "Number of observations: 100\t R^2: 0.512\t R^2_adj: 0.388\n",
      "\n",
      "Log-likelihood: 201.929 \t AIC: -361.858\t BIC: -307.150\n",
      "\n",
      "Fixed effects:\n",
      "\n",
      "Formula: Reward~AU1+AU2+AU4+AU5+AU6+AU7+AU9+AU10+AU12+AU14+AU15+AU17+AU18+AU20+AU23+AU24+AU25+AU26+AU28+AU43\n",
      "\n",
      "Family: gaussian\t Estimator: OLS\n",
      "\n",
      "Std-errors: non-robust\tCIs: standard 95%\tInference: parametric \n",
      "\n",
      "Number of observations: 100\t R^2: 0.418\t R^2_adj: 0.271\n",
      "\n",
      "Log-likelihood: 200.078 \t AIC: -358.156\t BIC: -303.447\n",
      "\n",
      "Fixed effects:\n",
      "\n",
      "Formula: Reward~AU1+AU2+AU4+AU5+AU6+AU7+AU9+AU10+AU12+AU14+AU15+AU17+AU18+AU20+AU23+AU24+AU25+AU26+AU28+AU43\n",
      "\n",
      "Family: gaussian\t Estimator: OLS\n",
      "\n",
      "Std-errors: non-robust\tCIs: standard 95%\tInference: parametric \n",
      "\n",
      "Number of observations: 100\t R^2: 0.423\t R^2_adj: 0.277\n",
      "\n",
      "Log-likelihood: 189.649 \t AIC: -337.299\t BIC: -282.590\n",
      "\n",
      "Fixed effects:\n",
      "\n",
      "Formula: Reward~AU1+AU2+AU4+AU5+AU6+AU7+AU9+AU10+AU12+AU14+AU15+AU17+AU18+AU20+AU23+AU24+AU25+AU26+AU28+AU43\n",
      "\n",
      "Family: gaussian\t Estimator: OLS\n",
      "\n",
      "Std-errors: non-robust\tCIs: standard 95%\tInference: parametric \n",
      "\n",
      "Number of observations: 100\t R^2: 0.306\t R^2_adj: 0.130\n",
      "\n",
      "Log-likelihood: 195.505 \t AIC: -349.011\t BIC: -294.302\n",
      "\n",
      "Fixed effects:\n",
      "\n",
      "Formula: Reward~AU1+AU2+AU4+AU5+AU6+AU7+AU9+AU10+AU12+AU14+AU15+AU17+AU18+AU20+AU23+AU24+AU25+AU26+AU28+AU43\n",
      "\n",
      "Family: gaussian\t Estimator: OLS\n",
      "\n",
      "Std-errors: non-robust\tCIs: standard 95%\tInference: parametric \n",
      "\n",
      "Number of observations: 100\t R^2: 0.396\t R^2_adj: 0.243\n",
      "\n",
      "Log-likelihood: 189.860 \t AIC: -337.719\t BIC: -283.010\n",
      "\n",
      "Fixed effects:\n",
      "\n",
      "Formula: Reward~AU1+AU2+AU4+AU5+AU6+AU7+AU9+AU10+AU12+AU14+AU15+AU17+AU18+AU20+AU23+AU24+AU25+AU26+AU28+AU43\n",
      "\n",
      "Family: gaussian\t Estimator: OLS\n",
      "\n",
      "Std-errors: non-robust\tCIs: standard 95%\tInference: parametric \n",
      "\n",
      "Number of observations: 100\t R^2: 0.433\t R^2_adj: 0.290\n",
      "\n",
      "Log-likelihood: 203.881 \t AIC: -365.762\t BIC: -311.053\n",
      "\n",
      "Fixed effects:\n",
      "\n",
      "Formula: Reward~AU1+AU2+AU4+AU5+AU6+AU7+AU9+AU10+AU12+AU14+AU15+AU17+AU18+AU20+AU23+AU24+AU25+AU26+AU28+AU43\n",
      "\n",
      "Family: gaussian\t Estimator: OLS\n",
      "\n",
      "Std-errors: non-robust\tCIs: standard 95%\tInference: parametric \n",
      "\n",
      "Number of observations: 100\t R^2: 0.355\t R^2_adj: 0.191\n",
      "\n",
      "Log-likelihood: 192.850 \t AIC: -343.701\t BIC: -288.992\n",
      "\n",
      "Fixed effects:\n",
      "\n",
      "Formula: Reward~AU1+AU2+AU4+AU5+AU6+AU7+AU9+AU10+AU12+AU14+AU15+AU17+AU18+AU20+AU23+AU24+AU25+AU26+AU28+AU43\n",
      "\n",
      "Family: gaussian\t Estimator: OLS\n",
      "\n",
      "Std-errors: non-robust\tCIs: standard 95%\tInference: parametric \n",
      "\n",
      "Number of observations: 100\t R^2: 0.396\t R^2_adj: 0.242\n",
      "\n",
      "Log-likelihood: 195.753 \t AIC: -349.507\t BIC: -294.798\n",
      "\n",
      "Fixed effects:\n",
      "\n",
      "Formula: Reward~AU1+AU2+AU4+AU5+AU6+AU7+AU9+AU10+AU12+AU14+AU15+AU17+AU18+AU20+AU23+AU24+AU25+AU26+AU28+AU43\n",
      "\n",
      "Family: gaussian\t Estimator: OLS\n",
      "\n",
      "Std-errors: non-robust\tCIs: standard 95%\tInference: parametric \n",
      "\n",
      "Number of observations: 100\t R^2: 0.318\t R^2_adj: 0.146\n",
      "\n",
      "Log-likelihood: 218.669 \t AIC: -395.338\t BIC: -340.630\n",
      "\n",
      "Fixed effects:\n",
      "\n",
      "Formula: Reward~AU1+AU2+AU4+AU5+AU6+AU7+AU9+AU10+AU12+AU14+AU15+AU17+AU18+AU20+AU23+AU24+AU25+AU26+AU28+AU43\n",
      "\n",
      "Family: gaussian\t Estimator: OLS\n",
      "\n",
      "Std-errors: non-robust\tCIs: standard 95%\tInference: parametric \n",
      "\n",
      "Number of observations: 100\t R^2: 0.313\t R^2_adj: 0.139\n",
      "\n",
      "Log-likelihood: 196.184 \t AIC: -350.369\t BIC: -295.660\n",
      "\n",
      "Fixed effects:\n",
      "\n",
      "Formula: Reward~AU1+AU2+AU4+AU5+AU6+AU7+AU9+AU10+AU12+AU14+AU15+AU17+AU18+AU20+AU23+AU24+AU25+AU26+AU28+AU43\n",
      "\n",
      "Family: gaussian\t Estimator: OLS\n",
      "\n",
      "Std-errors: non-robust\tCIs: standard 95%\tInference: parametric \n",
      "\n",
      "Number of observations: 100\t R^2: 0.333\t R^2_adj: 0.165\n",
      "\n",
      "Log-likelihood: 226.126 \t AIC: -410.252\t BIC: -355.543\n",
      "\n",
      "Fixed effects:\n",
      "\n",
      "Formula: Reward~AU1+AU2+AU4+AU5+AU6+AU7+AU9+AU10+AU12+AU14+AU15+AU17+AU18+AU20+AU23+AU24+AU25+AU26+AU28+AU43\n",
      "\n",
      "Family: gaussian\t Estimator: OLS\n",
      "\n",
      "Std-errors: non-robust\tCIs: standard 95%\tInference: parametric \n",
      "\n",
      "Number of observations: 100\t R^2: 0.383\t R^2_adj: 0.227\n",
      "\n",
      "Log-likelihood: 186.972 \t AIC: -331.943\t BIC: -277.235\n",
      "\n",
      "Fixed effects:\n",
      "\n",
      "Formula: Reward~AU1+AU2+AU4+AU5+AU6+AU7+AU9+AU10+AU12+AU14+AU15+AU17+AU18+AU20+AU23+AU24+AU25+AU26+AU28+AU43\n",
      "\n",
      "Family: gaussian\t Estimator: OLS\n",
      "\n",
      "Std-errors: non-robust\tCIs: standard 95%\tInference: parametric \n",
      "\n",
      "Number of observations: 100\t R^2: 0.371\t R^2_adj: 0.212\n",
      "\n",
      "Log-likelihood: 195.285 \t AIC: -348.571\t BIC: -293.862\n",
      "\n",
      "Fixed effects:\n",
      "\n",
      "Formula: Reward~AU1+AU2+AU4+AU5+AU6+AU7+AU9+AU10+AU12+AU14+AU15+AU17+AU18+AU20+AU23+AU24+AU25+AU26+AU28+AU43\n",
      "\n",
      "Family: gaussian\t Estimator: OLS\n",
      "\n",
      "Std-errors: non-robust\tCIs: standard 95%\tInference: parametric \n",
      "\n",
      "Number of observations: 100\t R^2: 0.447\t R^2_adj: 0.307\n",
      "\n",
      "Log-likelihood: 194.666 \t AIC: -347.333\t BIC: -292.624\n",
      "\n",
      "Fixed effects:\n",
      "\n",
      "Formula: Reward~AU1+AU2+AU4+AU5+AU6+AU7+AU9+AU10+AU12+AU14+AU15+AU17+AU18+AU20+AU23+AU24+AU25+AU26+AU28+AU43\n",
      "\n",
      "Family: gaussian\t Estimator: OLS\n",
      "\n",
      "Std-errors: non-robust\tCIs: standard 95%\tInference: parametric \n",
      "\n",
      "Number of observations: 100\t R^2: 0.341\t R^2_adj: 0.174\n",
      "\n",
      "Log-likelihood: 200.682 \t AIC: -359.364\t BIC: -304.656\n",
      "\n",
      "Fixed effects:\n",
      "\n"
     ]
    },
    {
     "data": {
      "text/plain": [
       "<AxesSubplot:>"
      ]
     },
     "execution_count": 121,
     "metadata": {},
     "output_type": "execute_result"
    },
    {
     "data": {
      "image/png": "[encoded data removed]",
      "text/plain": [
       "<Figure size 288x360 with 1 Axes>"
      ]
     },
     "metadata": {
      "needs_background": "light"
     },
     "output_type": "display_data"
    }
   ],
   "source": [
    "# Estimate AU weights for each imaging subjet\n",
    "all_wts = {}\n",
    "for s in combined_long['Subject'].unique():\n",
    "    au_regress = Lm(\"Reward ~ AU1 + AU2 + AU4 + AU5 + AU6 + AU7 + AU9 + AU10 + AU12 + AU14 + AU15 + AU17 + AU18 + AU20 + AU23 + AU24 + AU25 + AU26 + AU28 + AU43\", data=combined_long.query('Subject==@s'))\n",
    "    au_regress.fit(verbose=False)\n",
    "    au_wts = au_regress.coefs['Estimate']\n",
    "    all_wts[s] = au_wts\n",
    "all_wts = pd.DataFrame(all_wts).T\n",
    "\n",
    "aus = pd.Series(minmax_scale(all_wts.drop(columns=['Intercept']).mean(), feature_range=(0,1)), index=au_wts.drop('Intercept').index)\n",
    "\n"
   ]
  },
  {
   "cell_type": "code",
   "execution_count": 123,
   "id": "ebd13a05",
   "metadata": {
    "ExecuteTime": {
     "end_time": "2022-08-14T02:22:40.931839Z",
     "start_time": "2022-08-14T02:22:40.739043Z"
    }
   },
   "outputs": [
    {
     "data": {
      "image/png": "[encoded data removed]",
      "text/plain": [
       "<Figure size 288x360 with 1 Axes>"
      ]
     },
     "metadata": {
      "needs_background": "light"
     },
     "output_type": "display_data"
    }
   ],
   "source": [
    "# Plot Average\n",
    "muscles = {'all': 'heatmap'}\n",
    "plot_face(au=aus.values, muscles=muscles)\n",
    "plt.savefig(os.path.join(data_dir, 'Figures', f'Face_Expression_FNL_Reward_Similarity_Final_Football_{analysis_name}.png'), dpi=300)\n",
    "plt.savefig(os.path.join(data_dir, 'Figures', f'Face_Expression_FNL_Reward_Similarity_Final_Football_{analysis_name}.pdf'))\n",
    "\n"
   ]
  },
  {
   "cell_type": "markdown",
   "id": "4bab621f",
   "metadata": {},
   "source": [
    "### Create Time Series Plot"
   ]
  },
  {
   "cell_type": "code",
   "execution_count": 102,
   "id": "76147716",
   "metadata": {
    "ExecuteTime": {
     "end_time": "2022-08-14T02:11:15.869037Z",
     "start_time": "2022-08-14T02:11:13.480032Z"
    }
   },
   "outputs": [
    {
     "data": {
      "image/png": "[encoded data removed]",
      "text/plain": [
       "<Figure size 1080x360 with 1 Axes>"
      ]
     },
     "metadata": {
      "needs_background": "light"
     },
     "output_type": "display_data"
    }
   ],
   "source": [
    "\n",
    "successful_plays = {\n",
    "                    'Saracen goes back on field after pep talk from Coach Taylor':'39:23',\n",
    "                    'Transition from graphic spinal surgery back to game':'39:37',\n",
    "                   'Saracen successful pass':'39:50',\n",
    "                   'Smash scores touchdown':'40:24',\n",
    "                   'Successful onside punt':'40:43',\n",
    "                   'Smash runs out of bounds to stop clock':'41:20',\n",
    "                    'Saracen succesfully recovers from almost falling':'41:47',\n",
    "                    'Saracen succesfully evades being sacked':'41:55',\n",
    "                    'Saracen succesfully gets pass off':'42:06',\n",
    "                    'Smash scores winning touchdown':'42:22'\n",
    "                   }\n",
    "\n",
    "football_plays = {'Touchdown Dillon':'30:16', \n",
    "                    'Touchdown Westerby':'30:33', \n",
    "                    'Westerby Blocks Pass':'32:09', \n",
    "                    'Street Taken off Field':'35:39',\n",
    "                    'Saracen Goes Back on Field After Pep Talk from Coach Taylor':'39:28',\n",
    "                   'Saracen Successful Pass':'39:50',\n",
    "                   'Smash Scores Touchdown':'40:24',\n",
    "                   'Successful Onside Punt':'40:43',\n",
    "                   'Smash Runs Out of Bounds to Stop Clock':'41:20',\n",
    "                    'Saracen Succesfully Recovers from Almost Falling':'41:47',\n",
    "                    'Saracen Succesfully Evades being sacked':'41:55',\n",
    "                    'Saracen succesfully gets pass off':'42:08',\n",
    "                    'Scores winning touchdown':'42:22'\n",
    "                   }\n",
    "\n",
    "\n",
    "calc_zscore = lambda x: (x - x.mean()) / x.std()\n",
    "combined_long['Reward_z'] = combined_long['Reward'].groupby(combined_long['Subject']).transform(calc_zscore)\n",
    "combined_long['Face_Prediction_z'] = combined_long['Face_Prediction'].groupby(combined_long['Subject']).transform(calc_zscore)\n",
    "\n",
    "with sns.plotting_context(context='paper', font_scale=2):\n",
    "    f,a = plt.subplots(figsize=(15,5))\n",
    "\n",
    "    sns.lineplot(data=combined_long, x='TR', y='Reward_z', ax=a, linewidth=2, color='red')\n",
    "    sns.lineplot(data=combined_long, x='TR', y='Face_Prediction_z', ax=a, linewidth=2, color='royalblue')\n",
    "    plt.axhline(0, color='grey', linestyle='--')\n",
    "\n",
    "    # plt.legend(['Reward', 'PINES', 'AU12', ])\n",
    "    a.set_xticks(range(0, fnl_similarity.shape[0], 5))\n",
    "    a.set_xticklabels(rec_to_time(range(0, fnl_similarity.shape[0], 5), TR=2.0), rotation=60, fontsize=12)\n",
    "\n",
    "    for time_stamp in [time_stamp_to_tr(x) for x in list(successful_plays.values())]:\n",
    "        plt.axvline(time_stamp, color='dimgrey', linestyle='--', linewidth=2)\n",
    "\n",
    "#     a.plot(convolved_events, color='pink')\n",
    "    \n",
    "    a.set_xlim([1175,1275])\n",
    "    a.set_ylim([-1.75, 2.5])\n",
    "#     a.set_ylabel('Reward Prediction')\n",
    "    a.set_xlabel('Time')\n",
    "    plt.legend(['Reward Model', 'Face Model'])\n",
    "    plt.tight_layout()\n",
    "    plt.savefig(os.path.join(data_dir, 'Figures', f'FNL_Reward_Similarity_Final_Football_Face_{analysis_name}.png'), dpi=300)\n",
    "    plt.savefig(os.path.join(data_dir, 'Figures', f'FNL_Reward_Similarity_Final_Football_Face_{analysis_name}.pdf'))\n",
    "    "
   ]
  }
 ],
 "metadata": {
  "kernelspec": {
   "display_name": "Python 3 (ipykernel)",
   "language": "python",
   "name": "python3"
  },
  "language_info": {
   "codemirror_mode": {
    "name": "ipython",
    "version": 3
   },
   "file_extension": ".py",
   "mimetype": "text/x-python",
   "name": "python",
   "nbconvert_exporter": "python",
   "pygments_lexer": "ipython3",
   "version": "3.8.11"
  },
  "toc": {
   "base_numbering": 1,
   "nav_menu": {},
   "number_sections": true,
   "sideBar": true,
   "skip_h1_title": false,
   "title_cell": "Table of Contents",
   "title_sidebar": "Contents",
   "toc_cell": false,
   "toc_position": {},
   "toc_section_display": true,
   "toc_window_display": true
  }
 },
 "nbformat": 4,
 "nbformat_minor": 5
}
